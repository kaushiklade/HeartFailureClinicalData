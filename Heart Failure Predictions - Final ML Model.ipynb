{
 "cells": [
  {
   "cell_type": "markdown",
   "metadata": {},
   "source": [
    "<h1><center>Final Modeling</center></h1>\n",
    "<hr>"
   ]
  },
  {
   "cell_type": "code",
   "execution_count": 1,
   "metadata": {},
   "outputs": [],
   "source": [
    "import pandas as pd\n",
    "import numpy as np\n",
    "import scipy\n",
    "import matplotlib.pyplot as plt\n",
    "import seaborn as sns\n",
    "\n",
    "from sklearn.model_selection import train_test_split\n",
    "from sklearn.preprocessing import StandardScaler\n",
    "from sklearn.preprocessing import MinMaxScaler\n",
    "\n",
    "from sklearn.linear_model import LogisticRegression, SGDClassifier\n",
    "\n",
    "from sklearn.metrics import accuracy_score\n",
    "from sklearn.metrics import f1_score\n",
    "from sklearn.metrics import confusion_matrix"
   ]
  },
  {
   "cell_type": "code",
   "execution_count": 2,
   "metadata": {},
   "outputs": [
    {
     "data": {
      "text/html": [
       "<div>\n",
       "<style scoped>\n",
       "    .dataframe tbody tr th:only-of-type {\n",
       "        vertical-align: middle;\n",
       "    }\n",
       "\n",
       "    .dataframe tbody tr th {\n",
       "        vertical-align: top;\n",
       "    }\n",
       "\n",
       "    .dataframe thead th {\n",
       "        text-align: right;\n",
       "    }\n",
       "</style>\n",
       "<table border=\"1\" class=\"dataframe\">\n",
       "  <thead>\n",
       "    <tr style=\"text-align: right;\">\n",
       "      <th></th>\n",
       "      <th>sex</th>\n",
       "      <th>anaemia</th>\n",
       "      <th>high_blood_pressure</th>\n",
       "      <th>smoking</th>\n",
       "      <th>diabetes</th>\n",
       "      <th>age_bin</th>\n",
       "      <th>creatinine_phosphokinase_bin</th>\n",
       "      <th>ejection_fraction_bin</th>\n",
       "      <th>platelates_bin</th>\n",
       "      <th>serum_creatinine_bin</th>\n",
       "      <th>serum_sodium_bin</th>\n",
       "    </tr>\n",
       "  </thead>\n",
       "  <tbody>\n",
       "    <tr>\n",
       "      <th>0</th>\n",
       "      <td>1</td>\n",
       "      <td>0</td>\n",
       "      <td>1</td>\n",
       "      <td>0</td>\n",
       "      <td>0</td>\n",
       "      <td>4</td>\n",
       "      <td>3</td>\n",
       "      <td>0</td>\n",
       "      <td>3</td>\n",
       "      <td>5</td>\n",
       "      <td>2</td>\n",
       "    </tr>\n",
       "    <tr>\n",
       "      <th>1</th>\n",
       "      <td>1</td>\n",
       "      <td>0</td>\n",
       "      <td>0</td>\n",
       "      <td>0</td>\n",
       "      <td>0</td>\n",
       "      <td>2</td>\n",
       "      <td>7</td>\n",
       "      <td>1</td>\n",
       "      <td>3</td>\n",
       "      <td>2</td>\n",
       "      <td>3</td>\n",
       "    </tr>\n",
       "    <tr>\n",
       "      <th>2</th>\n",
       "      <td>1</td>\n",
       "      <td>0</td>\n",
       "      <td>0</td>\n",
       "      <td>1</td>\n",
       "      <td>0</td>\n",
       "      <td>3</td>\n",
       "      <td>1</td>\n",
       "      <td>0</td>\n",
       "      <td>1</td>\n",
       "      <td>3</td>\n",
       "      <td>1</td>\n",
       "    </tr>\n",
       "    <tr>\n",
       "      <th>3</th>\n",
       "      <td>1</td>\n",
       "      <td>1</td>\n",
       "      <td>0</td>\n",
       "      <td>0</td>\n",
       "      <td>0</td>\n",
       "      <td>2</td>\n",
       "      <td>1</td>\n",
       "      <td>0</td>\n",
       "      <td>2</td>\n",
       "      <td>5</td>\n",
       "      <td>3</td>\n",
       "    </tr>\n",
       "    <tr>\n",
       "      <th>4</th>\n",
       "      <td>0</td>\n",
       "      <td>1</td>\n",
       "      <td>0</td>\n",
       "      <td>0</td>\n",
       "      <td>1</td>\n",
       "      <td>3</td>\n",
       "      <td>1</td>\n",
       "      <td>0</td>\n",
       "      <td>4</td>\n",
       "      <td>6</td>\n",
       "      <td>0</td>\n",
       "    </tr>\n",
       "  </tbody>\n",
       "</table>\n",
       "</div>"
      ],
      "text/plain": [
       "   sex  anaemia  high_blood_pressure  smoking  diabetes  age_bin  \\\n",
       "0    1        0                    1        0         0        4   \n",
       "1    1        0                    0        0         0        2   \n",
       "2    1        0                    0        1         0        3   \n",
       "3    1        1                    0        0         0        2   \n",
       "4    0        1                    0        0         1        3   \n",
       "\n",
       "   creatinine_phosphokinase_bin  ejection_fraction_bin  platelates_bin  \\\n",
       "0                             3                      0               3   \n",
       "1                             7                      1               3   \n",
       "2                             1                      0               1   \n",
       "3                             1                      0               2   \n",
       "4                             1                      0               4   \n",
       "\n",
       "   serum_creatinine_bin  serum_sodium_bin  \n",
       "0                     5                 2  \n",
       "1                     2                 3  \n",
       "2                     3                 1  \n",
       "3                     5                 3  \n",
       "4                     6                 0  "
      ]
     },
     "execution_count": 2,
     "metadata": {},
     "output_type": "execute_result"
    }
   ],
   "source": [
    "data  = pd.read_csv('./heart_failure_final.csv')\n",
    "label = data['DEATH_EVENT']\n",
    "data1 = data.drop(labels=['DEATH_EVENT'], axis=1)\n",
    "data1.head()"
   ]
  },
  {
   "cell_type": "code",
   "execution_count": 3,
   "metadata": {},
   "outputs": [],
   "source": [
    "#train test splitting of data\n",
    "\n",
    "x_tr, x_te, y_tr, y_te = train_test_split(data1, label, test_size=0.10, stratify=label, random_state=47)"
   ]
  },
  {
   "cell_type": "code",
   "execution_count": 4,
   "metadata": {},
   "outputs": [
    {
     "name": "stdout",
     "output_type": "stream",
     "text": [
      "Train Data : (269, 11)\n",
      "Test  Data : (30, 11)\n"
     ]
    }
   ],
   "source": [
    "print(\"Train Data : {0}\".format(x_tr.shape))\n",
    "print(\"Test  Data : {0}\".format(x_te.shape))"
   ]
  },
  {
   "cell_type": "code",
   "execution_count": 5,
   "metadata": {},
   "outputs": [],
   "source": [
    "#standardizing the data : mean = 0 and getting the std. deviation\n",
    "std = StandardScaler()\n",
    "std.fit(x_tr)\n",
    "norm_x_tr = std.transform(x_tr)\n",
    "norm_x_te = std.transform(x_te)"
   ]
  },
  {
   "cell_type": "markdown",
   "metadata": {},
   "source": [
    " "
   ]
  },
  {
   "cell_type": "code",
   "execution_count": 6,
   "metadata": {},
   "outputs": [],
   "source": [
    "def plot_confusion_matrix(actual, predicted):\n",
    "    \"\"\"\n",
    "    for plotting confusion matrix\n",
    "    \"\"\"\n",
    "    C = confusion_matrix(actual, predicted) #confusion matrix\n",
    "    A = ((C.T)/(C.sum(axis=1))).T           #recall matrix    (row sum=1)\n",
    "    B = (C/C.sum(axis=0))                   #precision matrix (col sum=1)\n",
    "    plt.figure(figsize=(18, 5))\n",
    "    labels = list(range(2))\n",
    "    \n",
    "    ax1=plt.subplot(131)\n",
    "    #print('-'*10, 'Confusion Matrix', '-'*10)\n",
    "    #plt.figure(figsize=(5, 4))\n",
    "    sns.heatmap(C, annot=True, cmap='YlGnBu', fmt='.3f', xticklabels=labels, yticklabels=labels, ax=ax1)\n",
    "    ax1.set_title('Confusion Matrix')\n",
    "    plt.xlabel('Predicted Labels')\n",
    "    plt.ylabel('Actual Labels')\n",
    "    \n",
    "    ax2=plt.subplot(132)\n",
    "    #print('-'*10, 'Precision Matrix (ColSum=1)', '-'*10)#B\n",
    "    #plt.figure(figsize=(5, 4))\n",
    "    sns.heatmap(B, annot=True, cmap='YlGn', fmt='.3f', xticklabels=labels, yticklabels=labels, ax=ax2)\n",
    "    ax2.set_title('Precision Matrix')\n",
    "    plt.xlabel('Predicted Labels')\n",
    "    plt.ylabel('Actual Labels')\n",
    "    \n",
    "    ax3=plt.subplot(133)\n",
    "    #print('-'*10, 'Recall Matrix (RowSum=1)', '-'*10)#A\n",
    "    #plt.figure(figsize=(5, 4))\n",
    "    sns.heatmap(A, annot=True, cmap='YlOrBr', fmt='.3f', xticklabels=labels, yticklabels=labels, ax=ax3)\n",
    "    ax3.set_title('Recall Matrix')\n",
    "    plt.xlabel('Predicted Labels')\n",
    "    plt.ylabel('Actual Labels')\n",
    "    plt.show()"
   ]
  },
  {
   "cell_type": "code",
   "execution_count": 7,
   "metadata": {},
   "outputs": [],
   "source": [
    "alpha_range = [ 10**i for i in range(-6, 4) ]\n",
    "\n",
    "weight_0 = len([ x for x in label if x==0 ])/data.shape[0]\n",
    "weight_1 = len([ x for x in label if x==1 ])/data.shape[0]"
   ]
  },
  {
   "cell_type": "markdown",
   "metadata": {},
   "source": [
    "## Training Logistic Regression"
   ]
  },
  {
   "cell_type": "code",
   "execution_count": 8,
   "metadata": {},
   "outputs": [
    {
     "name": "stdout",
     "output_type": "stream",
     "text": [
      "For Alpha= 1e-06, f1-score was found to be 0.6316\n",
      "For Alpha= 1e-05, f1-score was found to be 0.4348\n",
      "For Alpha=0.0001, f1-score was found to be 0.4211\n",
      "For Alpha= 0.001, f1-score was found to be 0.4706\n",
      "For Alpha=  0.01, f1-score was found to be 0.5556\n",
      "For Alpha=   0.1, f1-score was found to be 0.5556\n",
      "For Alpha=     1, f1-score was found to be    0.0\n",
      "For Alpha=    10, f1-score was found to be    0.0\n",
      "For Alpha=   100, f1-score was found to be    0.0\n",
      "For Alpha=  1000, f1-score was found to be    0.0\n",
      "\n",
      "\n",
      "Best f1-score was found to be for Alpha=1e-06, with value to be 0.6316\n"
     ]
    }
   ],
   "source": [
    "performance = list()\n",
    "for alpha in alpha_range:\n",
    "    lr_clf = SGDClassifier(loss='log', penalty='l2', alpha=alpha, random_state=27)\n",
    "    lr_clf.fit(norm_x_tr, y_tr)\n",
    "    #cv prediction\n",
    "    te_pred     = lr_clf.predict(norm_x_te)\n",
    "    te_f1_score = round(f1_score(y_te, te_pred), 4)\n",
    "    performance.append(te_f1_score)\n",
    "    print(\"For Alpha={:6}, f1-score was found to be {:6}\".format(alpha, te_f1_score))\n",
    "\n",
    "best_alpha = alpha_range[np.argmax(performance)]\n",
    "#best_alpha = 1\n",
    "print(\"\\n\\nBest f1-score was found to be for Alpha={0}, with value to be {1}\"\\\n",
    "      .format(best_alpha, max(performance)))"
   ]
  },
  {
   "cell_type": "code",
   "execution_count": 9,
   "metadata": {},
   "outputs": [
    {
     "name": "stdout",
     "output_type": "stream",
     "text": [
      "Model performance on Test data found to be 76.6667% \n",
      "\n",
      "\n"
     ]
    },
    {
     "data": {
      "image/png": "[encoded data removed]",
      "text/plain": [
       "<Figure size 1296x360 with 6 Axes>"
      ]
     },
     "metadata": {
      "needs_background": "light"
     },
     "output_type": "display_data"
    }
   ],
   "source": [
    "lr_clf = SGDClassifier(loss='log', penalty='l2', alpha=best_alpha, random_state=27)\n",
    "lr_clf.fit(norm_x_tr, y_tr)\n",
    "\n",
    "tr_f1_score = round(f1_score(y_tr, lr_clf.predict(norm_x_tr)), 4)\n",
    "tr_accuracy = round(accuracy_score(y_tr, lr_clf.predict(norm_x_tr))*100, 4)\n",
    "\n",
    "te_f1_score = round(f1_score(y_te, lr_clf.predict(norm_x_te)), 4)\n",
    "te_accuracy = round(accuracy_score(y_te, lr_clf.predict(norm_x_te))*100, 4)\n",
    "\n",
    "print(\"Model performance on Test data found to be {:6}% \\n\\n\".format(te_accuracy))\n",
    "\n",
    "plot_confusion_matrix(y_te, lr_clf.predict(norm_x_te))"
   ]
  },
  {
   "cell_type": "markdown",
   "metadata": {},
   "source": [
    "# Finalizing Model"
   ]
  },
  {
   "cell_type": "code",
   "execution_count": 10,
   "metadata": {},
   "outputs": [],
   "source": [
    "def bin_age(age):\n",
    "    if age<40:        return 0\n",
    "    elif (age>=40) and (age<50):        return 1\n",
    "    elif (age>=50) and (age<60):        return 2\n",
    "    elif (age>=60) and (age<70):        return 3\n",
    "    elif (age>=70) and (age<80):        return 4\n",
    "    elif (age>=80) and (age<90):        return 5\n",
    "    else:        return 6\n",
    "\n",
    "def bin_creatinine_phosphokinase(creatinine):\n",
    "    if creatinine<0:        return 0\n",
    "    elif (creatinine>=0) and (creatinine<200):        return 1\n",
    "    elif (creatinine>=200) and (creatinine<400):        return 2\n",
    "    elif (creatinine>=400) and (creatinine<600):        return 3\n",
    "    elif (creatinine>=600) and (creatinine<800):        return 4\n",
    "    elif (creatinine>=800) and (creatinine<1000):        return 5\n",
    "    elif (creatinine>=1000) and (creatinine<1200):        return 6\n",
    "    else:        return 7\n",
    "\n",
    "def bin_ef(x):\n",
    "    if x<=35:        return 0\n",
    "    elif (x>35) and (x<=39):        return 1\n",
    "    elif (x>39) and (x<=54):        return 2\n",
    "    elif (x>54) and (x<=70):        return 3\n",
    "    else:        return 4\n",
    "\n",
    "def bin_platelates(x):\n",
    "    if x<=100000:        return 0\n",
    "    elif (x>100000) and (x<=200000):        return 1\n",
    "    elif (x>200000) and (x<=250000):        return 2\n",
    "    elif (x>250000) and (x<=300000):        return 3\n",
    "    elif (x>300000) and (x<=400000):        return 4\n",
    "    else:        return 5\n",
    "\n",
    "def bin_serum_creatinine(x):\n",
    "    if x<0.8:        return 0\n",
    "    elif (x>=0.8) and (x<1):        return 1\n",
    "    elif (x>=1) and (x<1.2):        return 2\n",
    "    elif (x>=1.2) and (x<1.4):        return 3\n",
    "    elif (x>=1.4) and (x<1.6):        return 4\n",
    "    elif (x>=1.6) and (x<2):        return 5\n",
    "    elif (x>=2) and (x<3):        return 6\n",
    "    elif (x>=3) and (x<5):        return 7\n",
    "    else:        return 8\n",
    "\n",
    "def bin_serum_sodium(x):\n",
    "    if x<125:        return 0\n",
    "    elif (x>=125) and (x<130):        return 1\n",
    "    elif (x>=130) and (x<135):        return 2\n",
    "    elif (x>=135) and (x<140):        return 3\n",
    "    elif (x>=140) and (x<145):        return 4\n",
    "    elif (x>=145) and (x<150):        return 5\n",
    "    else:        return 6"
   ]
  },
  {
   "cell_type": "code",
   "execution_count": 15,
   "metadata": {},
   "outputs": [],
   "source": [
    "def train():\n",
    "    data   = pd.read_csv('./heart_failure_clinical_records_dataset.csv')\n",
    "    #converting continuour variables into categorical\n",
    "    data['age_bin']                      = data['age'].map(bin_age)\n",
    "    data['creatinine_phosphokinase_bin'] = data['creatinine_phosphokinase'].map(bin_creatinine_phosphokinase)\n",
    "    data['ejection_fraction_bin']        = data['ejection_fraction'].map(bin_ef)\n",
    "    data['platelates_bin']               = data['platelets'].map(bin_platelates)\n",
    "    data['serum_creatinine_bin']         = data['serum_creatinine'].map(bin_serum_creatinine)\n",
    "    data['serum_sodium_bin']             = data['serum_sodium'].map(bin_serum_sodium)\n",
    "    #making data ready\n",
    "    final_data = data[['sex', 'anaemia', 'high_blood_pressure', 'smoking', 'diabetes', \\\n",
    "                       'age_bin', 'creatinine_phosphokinase_bin', 'ejection_fraction_bin', \\\n",
    "                       'platelates_bin', 'serum_creatinine_bin', 'serum_sodium_bin', 'DEATH_EVENT']]\n",
    "    labels = final_data['DEATH_EVENT']\n",
    "    data1  = final_data.drop(labels=['DEATH_EVENT'], axis=1)\n",
    "    #standardizing the data\n",
    "    std        = StandardScaler().fit(data1)\n",
    "    norm_data1 = std.transform(data1)\n",
    "    \n",
    "    #training the model\n",
    "    from sklearn.metrics import f1_score\n",
    "    from sklearn.linear_model import SGDClassifier\n",
    "    alpha_range = [ 10**x for x in range(-6, 5) ]\n",
    "    \n",
    "    #finding best alpha\n",
    "    performance = list()\n",
    "    for alpha in alpha_range:\n",
    "        log_reg = SGDClassifier(loss='log', penalty='l2', alpha=alpha, random_state=27)\n",
    "        log_reg.fit(norm_data1, labels)\n",
    "        preds   = log_reg.predict(norm_data1)\n",
    "        score   = round(f1_score(labels, preds), 5)\n",
    "        performance.append(score)\n",
    "        print(\"Alpha = {0} :: f1-score = {1}\".format(str(alpha).ljust(7, ' '), str(te_f1_score).ljust(7, ' ')))\n",
    "    #finding best alpha\n",
    "    best_alpha = alpha_range[np.argmax(performance)]\n",
    "    print(\"\\nBest Alpha = {0}, with f1-score = {1}\".format(str(best_alpha).ljust(7, ' '), str(max(performance)).ljust(7, ' ')))\n",
    "    #final fitting of data\n",
    "    log_reg = SGDClassifier(loss='log', penalty='l2', alpha=best_alpha, random_state=27)\n",
    "    log_reg.fit(norm_data1, labels)\n",
    "    #saving model\n",
    "    import pickle\n",
    "    import os\n",
    "    pickle.dump(log_reg, open('HeartFailure_LogisticRegression.sav', 'wb'))\n",
    "    if os.path.exists('HeartFailure_LogisticRegression.sav'):\n",
    "        print(\"File stored successfully in ' {0} '.\".format(os.getcwd()))\n",
    "        return std\n",
    "    else:\n",
    "        print(\"Error saving model. Please Re-train the same.\")\n",
    "        return 0"
   ]
  },
  {
   "cell_type": "code",
   "execution_count": 54,
   "metadata": {},
   "outputs": [],
   "source": [
    "def test(fresh_point, std, isRaw=False):\n",
    "    import os\n",
    "    import pickle\n",
    "    columns = ['sex', 'anaemia', 'high_blood_pressure', 'smoking', 'diabetes', \\\n",
    "               'age_bin', 'creatinine_phosphokinase_bin', 'ejection_fraction_bin', \\\n",
    "               'platelates_bin', 'serum_creatinine_bin', 'serum_sodium_bin']\n",
    "    expected_output = {0:' Absent ', 1:' Present '}\n",
    "    if isRaw:\n",
    "        cat_features  = fresh_point[:5]\n",
    "        age_bin       = bin_age(fresh_point[5])\n",
    "        cp_bin        = bin_creatinine_phosphokinase(fresh_point[6])\n",
    "        ef_bin        = bin_ef(fresh_point[7])\n",
    "        platlates_bin = bin_platelates(fresh_point[8])\n",
    "        sc_bin        = bin_serum_creatinine(fresh_point[9])\n",
    "        ss_bin        = bin_serum_sodium(fresh_point[10])\n",
    "        fresh_point   = np.array(cat_features.extend([age_bin, cp_bin, ef_bin, platelates_bin, sc_bin, ss_bin]))\n",
    "    #standardizing the prediction point\n",
    "    final_point   = std.transform(np.array(fresh_point).reshape(-1, 1).T)\n",
    "    if os.path.exists('HeartFailure_LogisticRegression.sav'):\n",
    "        print(\"Loading saved model from ' {0} '.\".format(os.getcwd()))\n",
    "        log_reg    = pickle.load(open('HeartFailure_LogisticRegression.sav', 'rb'))\n",
    "        prediction = int(log_reg.predict(final_point.reshape(-1, 1).T))\n",
    "        print(\"\\n\\nRisk of heart failure is \", expected_output[prediction])\n",
    "        weights    = log_reg.coef_ * final_point.reshape(-1, 1).T\n",
    "        print(\"\\nFeature Importance (Inreasing to Decreasing)::: \")\n",
    "        for line in (sorted(list(zip(columns, weights[0])), reverse=True, key=lambda x:x[1])):\n",
    "            f, v = line\n",
    "            #print(line)\n",
    "            print(\"Feature ::: {:30}   {:10}\".format(f, round(v, 5)))\n",
    "    else:\n",
    "        print(\"Error saving model. Please Re-train the same.\")"
   ]
  },
  {
   "cell_type": "markdown",
   "metadata": {},
   "source": [
    "## Testing the flow"
   ]
  },
  {
   "cell_type": "code",
   "execution_count": 13,
   "metadata": {},
   "outputs": [],
   "source": [
    "data  = pd.read_csv('./heart_failure_final.csv')\n",
    "label = data['DEATH_EVENT']\n",
    "data1 = data.drop(labels=['DEATH_EVENT'], axis=1)\n",
    "\n",
    "x_tr, x_te, y_tr, y_te = train_test_split(data1, label, test_size=0.10, stratify=label, random_state=47)"
   ]
  },
  {
   "cell_type": "markdown",
   "metadata": {},
   "source": [
    "#### Training Stage"
   ]
  },
  {
   "cell_type": "code",
   "execution_count": 16,
   "metadata": {},
   "outputs": [
    {
     "name": "stdout",
     "output_type": "stream",
     "text": [
      "Alpha = 1e-06   :: f1-score = 0.6316 \n",
      "Alpha = 1e-05   :: f1-score = 0.6316 \n",
      "Alpha = 0.0001  :: f1-score = 0.6316 \n",
      "Alpha = 0.001   :: f1-score = 0.6316 \n",
      "Alpha = 0.01    :: f1-score = 0.6316 \n",
      "Alpha = 0.1     :: f1-score = 0.6316 \n",
      "Alpha = 1       :: f1-score = 0.6316 \n",
      "Alpha = 10      :: f1-score = 0.6316 \n",
      "Alpha = 100     :: f1-score = 0.6316 \n",
      "Alpha = 1000    :: f1-score = 0.6316 \n",
      "Alpha = 10000   :: f1-score = 0.6316 \n",
      "\n",
      "Best Alpha = 1e-05  , with f1-score = 0.56322\n",
      "File stored successfully in ' K:\\Coding\\Kaggle\\HeartFailureClinicalData '.\n"
     ]
    }
   ],
   "source": [
    "return_status = train()"
   ]
  },
  {
   "cell_type": "markdown",
   "metadata": {},
   "source": [
    "#### Evaluation Stage"
   ]
  },
  {
   "cell_type": "code",
   "execution_count": 53,
   "metadata": {},
   "outputs": [
    {
     "name": "stdout",
     "output_type": "stream",
     "text": [
      "Loading saved model from ' K:\\Coding\\Kaggle\\HeartFailureClinicalData '.\n",
      "Risk of heart failure is   Absent \n",
      "\n",
      "Feature Importance ::: \n",
      "Feature ::: anaemia                             5.68099\n",
      "Feature ::: age_bin                             4.35355\n",
      "Feature ::: serum_sodium_bin                   -0.33339\n",
      "Feature ::: platelates_bin                     -1.55121\n",
      "Feature ::: diabetes                            -2.2837\n",
      "Feature ::: creatinine_phosphokinase_bin       -4.02197\n",
      "Feature ::: high_blood_pressure                -4.36288\n",
      "Feature ::: sex                                -5.81574\n",
      "Feature ::: smoking                            -8.72912\n",
      "Feature ::: ejection_fraction_bin             -14.72836\n",
      "Feature ::: serum_creatinine_bin              -37.32278\n"
     ]
    }
   ],
   "source": [
    "if return_status != 0:\n",
    "    sample = x_te.iloc[0,:]\n",
    "    test(sample, return_status)"
   ]
  }
 ],
 "metadata": {
  "kernelspec": {
   "display_name": "Python 3",
   "language": "python",
   "name": "python3"
  },
  "language_info": {
   "codemirror_mode": {
    "name": "ipython",
    "version": 3
   },
   "file_extension": ".py",
   "mimetype": "text/x-python",
   "name": "python",
   "nbconvert_exporter": "python",
   "pygments_lexer": "ipython3",
   "version": "3.7.6"
  }
 },
 "nbformat": 4,
 "nbformat_minor": 4
}
