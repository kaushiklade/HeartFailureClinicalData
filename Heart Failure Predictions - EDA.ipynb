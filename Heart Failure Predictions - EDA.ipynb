{
 "cells": [
  {
   "cell_type": "markdown",
   "metadata": {},
   "source": [
    "<h1><center>Heart Failure Prediction</center></h1>\n",
    "<hr>"
   ]
  },
  {
   "cell_type": "code",
   "execution_count": 1,
   "metadata": {},
   "outputs": [],
   "source": [
    "import re\n",
    "import os\n",
    "import time\n",
    "import scipy\n",
    "\n",
    "from tqdm import tqdm\n",
    "\n",
    "import matplotlib.pyplot as plt\n",
    "import seaborn as sns\n",
    "import pandas as pd\n",
    "import numpy as np"
   ]
  },
  {
   "cell_type": "code",
   "execution_count": 2,
   "metadata": {},
   "outputs": [],
   "source": [
    "data = pd.read_csv('./heart_failure_clinical_records_dataset.csv')"
   ]
  },
  {
   "cell_type": "code",
   "execution_count": 3,
   "metadata": {},
   "outputs": [
    {
     "name": "stdout",
     "output_type": "stream",
     "text": [
      "<class 'pandas.core.frame.DataFrame'>\n",
      "RangeIndex: 299 entries, 0 to 298\n",
      "Data columns (total 13 columns):\n",
      " #   Column                    Non-Null Count  Dtype  \n",
      "---  ------                    --------------  -----  \n",
      " 0   age                       299 non-null    float64\n",
      " 1   anaemia                   299 non-null    int64  \n",
      " 2   creatinine_phosphokinase  299 non-null    int64  \n",
      " 3   diabetes                  299 non-null    int64  \n",
      " 4   ejection_fraction         299 non-null    int64  \n",
      " 5   high_blood_pressure       299 non-null    int64  \n",
      " 6   platelets                 299 non-null    float64\n",
      " 7   serum_creatinine          299 non-null    float64\n",
      " 8   serum_sodium              299 non-null    int64  \n",
      " 9   sex                       299 non-null    int64  \n",
      " 10  smoking                   299 non-null    int64  \n",
      " 11  time                      299 non-null    int64  \n",
      " 12  DEATH_EVENT               299 non-null    int64  \n",
      "dtypes: float64(3), int64(10)\n",
      "memory usage: 30.5 KB\n"
     ]
    }
   ],
   "source": [
    "data.info()"
   ]
  },
  {
   "cell_type": "markdown",
   "metadata": {},
   "source": [
    "<p>Above data contains total of 13 columns, each of them containing 299 non-null entries</p>"
   ]
  },
  {
   "cell_type": "code",
   "execution_count": 4,
   "metadata": {},
   "outputs": [
    {
     "data": {
      "text/html": [
       "<div>\n",
       "<style scoped>\n",
       "    .dataframe tbody tr th:only-of-type {\n",
       "        vertical-align: middle;\n",
       "    }\n",
       "\n",
       "    .dataframe tbody tr th {\n",
       "        vertical-align: top;\n",
       "    }\n",
       "\n",
       "    .dataframe thead th {\n",
       "        text-align: right;\n",
       "    }\n",
       "</style>\n",
       "<table border=\"1\" class=\"dataframe\">\n",
       "  <thead>\n",
       "    <tr style=\"text-align: right;\">\n",
       "      <th></th>\n",
       "      <th>age</th>\n",
       "      <th>anaemia</th>\n",
       "      <th>creatinine_phosphokinase</th>\n",
       "      <th>diabetes</th>\n",
       "      <th>ejection_fraction</th>\n",
       "      <th>high_blood_pressure</th>\n",
       "      <th>platelets</th>\n",
       "      <th>serum_creatinine</th>\n",
       "      <th>serum_sodium</th>\n",
       "      <th>sex</th>\n",
       "      <th>smoking</th>\n",
       "      <th>time</th>\n",
       "      <th>DEATH_EVENT</th>\n",
       "    </tr>\n",
       "  </thead>\n",
       "  <tbody>\n",
       "    <tr>\n",
       "      <th>count</th>\n",
       "      <td>299.000000</td>\n",
       "      <td>299.000000</td>\n",
       "      <td>299.000000</td>\n",
       "      <td>299.000000</td>\n",
       "      <td>299.000000</td>\n",
       "      <td>299.000000</td>\n",
       "      <td>299.000000</td>\n",
       "      <td>299.00000</td>\n",
       "      <td>299.000000</td>\n",
       "      <td>299.000000</td>\n",
       "      <td>299.00000</td>\n",
       "      <td>299.000000</td>\n",
       "      <td>299.00000</td>\n",
       "    </tr>\n",
       "    <tr>\n",
       "      <th>mean</th>\n",
       "      <td>60.833893</td>\n",
       "      <td>0.431438</td>\n",
       "      <td>581.839465</td>\n",
       "      <td>0.418060</td>\n",
       "      <td>38.083612</td>\n",
       "      <td>0.351171</td>\n",
       "      <td>263358.029264</td>\n",
       "      <td>1.39388</td>\n",
       "      <td>136.625418</td>\n",
       "      <td>0.648829</td>\n",
       "      <td>0.32107</td>\n",
       "      <td>130.260870</td>\n",
       "      <td>0.32107</td>\n",
       "    </tr>\n",
       "    <tr>\n",
       "      <th>std</th>\n",
       "      <td>11.894809</td>\n",
       "      <td>0.496107</td>\n",
       "      <td>970.287881</td>\n",
       "      <td>0.494067</td>\n",
       "      <td>11.834841</td>\n",
       "      <td>0.478136</td>\n",
       "      <td>97804.236869</td>\n",
       "      <td>1.03451</td>\n",
       "      <td>4.412477</td>\n",
       "      <td>0.478136</td>\n",
       "      <td>0.46767</td>\n",
       "      <td>77.614208</td>\n",
       "      <td>0.46767</td>\n",
       "    </tr>\n",
       "    <tr>\n",
       "      <th>min</th>\n",
       "      <td>40.000000</td>\n",
       "      <td>0.000000</td>\n",
       "      <td>23.000000</td>\n",
       "      <td>0.000000</td>\n",
       "      <td>14.000000</td>\n",
       "      <td>0.000000</td>\n",
       "      <td>25100.000000</td>\n",
       "      <td>0.50000</td>\n",
       "      <td>113.000000</td>\n",
       "      <td>0.000000</td>\n",
       "      <td>0.00000</td>\n",
       "      <td>4.000000</td>\n",
       "      <td>0.00000</td>\n",
       "    </tr>\n",
       "    <tr>\n",
       "      <th>25%</th>\n",
       "      <td>51.000000</td>\n",
       "      <td>0.000000</td>\n",
       "      <td>116.500000</td>\n",
       "      <td>0.000000</td>\n",
       "      <td>30.000000</td>\n",
       "      <td>0.000000</td>\n",
       "      <td>212500.000000</td>\n",
       "      <td>0.90000</td>\n",
       "      <td>134.000000</td>\n",
       "      <td>0.000000</td>\n",
       "      <td>0.00000</td>\n",
       "      <td>73.000000</td>\n",
       "      <td>0.00000</td>\n",
       "    </tr>\n",
       "    <tr>\n",
       "      <th>50%</th>\n",
       "      <td>60.000000</td>\n",
       "      <td>0.000000</td>\n",
       "      <td>250.000000</td>\n",
       "      <td>0.000000</td>\n",
       "      <td>38.000000</td>\n",
       "      <td>0.000000</td>\n",
       "      <td>262000.000000</td>\n",
       "      <td>1.10000</td>\n",
       "      <td>137.000000</td>\n",
       "      <td>1.000000</td>\n",
       "      <td>0.00000</td>\n",
       "      <td>115.000000</td>\n",
       "      <td>0.00000</td>\n",
       "    </tr>\n",
       "    <tr>\n",
       "      <th>75%</th>\n",
       "      <td>70.000000</td>\n",
       "      <td>1.000000</td>\n",
       "      <td>582.000000</td>\n",
       "      <td>1.000000</td>\n",
       "      <td>45.000000</td>\n",
       "      <td>1.000000</td>\n",
       "      <td>303500.000000</td>\n",
       "      <td>1.40000</td>\n",
       "      <td>140.000000</td>\n",
       "      <td>1.000000</td>\n",
       "      <td>1.00000</td>\n",
       "      <td>203.000000</td>\n",
       "      <td>1.00000</td>\n",
       "    </tr>\n",
       "    <tr>\n",
       "      <th>max</th>\n",
       "      <td>95.000000</td>\n",
       "      <td>1.000000</td>\n",
       "      <td>7861.000000</td>\n",
       "      <td>1.000000</td>\n",
       "      <td>80.000000</td>\n",
       "      <td>1.000000</td>\n",
       "      <td>850000.000000</td>\n",
       "      <td>9.40000</td>\n",
       "      <td>148.000000</td>\n",
       "      <td>1.000000</td>\n",
       "      <td>1.00000</td>\n",
       "      <td>285.000000</td>\n",
       "      <td>1.00000</td>\n",
       "    </tr>\n",
       "  </tbody>\n",
       "</table>\n",
       "</div>"
      ],
      "text/plain": [
       "              age     anaemia  creatinine_phosphokinase    diabetes  \\\n",
       "count  299.000000  299.000000                299.000000  299.000000   \n",
       "mean    60.833893    0.431438                581.839465    0.418060   \n",
       "std     11.894809    0.496107                970.287881    0.494067   \n",
       "min     40.000000    0.000000                 23.000000    0.000000   \n",
       "25%     51.000000    0.000000                116.500000    0.000000   \n",
       "50%     60.000000    0.000000                250.000000    0.000000   \n",
       "75%     70.000000    1.000000                582.000000    1.000000   \n",
       "max     95.000000    1.000000               7861.000000    1.000000   \n",
       "\n",
       "       ejection_fraction  high_blood_pressure      platelets  \\\n",
       "count         299.000000           299.000000     299.000000   \n",
       "mean           38.083612             0.351171  263358.029264   \n",
       "std            11.834841             0.478136   97804.236869   \n",
       "min            14.000000             0.000000   25100.000000   \n",
       "25%            30.000000             0.000000  212500.000000   \n",
       "50%            38.000000             0.000000  262000.000000   \n",
       "75%            45.000000             1.000000  303500.000000   \n",
       "max            80.000000             1.000000  850000.000000   \n",
       "\n",
       "       serum_creatinine  serum_sodium         sex    smoking        time  \\\n",
       "count         299.00000    299.000000  299.000000  299.00000  299.000000   \n",
       "mean            1.39388    136.625418    0.648829    0.32107  130.260870   \n",
       "std             1.03451      4.412477    0.478136    0.46767   77.614208   \n",
       "min             0.50000    113.000000    0.000000    0.00000    4.000000   \n",
       "25%             0.90000    134.000000    0.000000    0.00000   73.000000   \n",
       "50%             1.10000    137.000000    1.000000    0.00000  115.000000   \n",
       "75%             1.40000    140.000000    1.000000    1.00000  203.000000   \n",
       "max             9.40000    148.000000    1.000000    1.00000  285.000000   \n",
       "\n",
       "       DEATH_EVENT  \n",
       "count    299.00000  \n",
       "mean       0.32107  \n",
       "std        0.46767  \n",
       "min        0.00000  \n",
       "25%        0.00000  \n",
       "50%        0.00000  \n",
       "75%        1.00000  \n",
       "max        1.00000  "
      ]
     },
     "execution_count": 4,
     "metadata": {},
     "output_type": "execute_result"
    }
   ],
   "source": [
    "data.describe()"
   ]
  },
  {
   "cell_type": "code",
   "execution_count": 5,
   "metadata": {},
   "outputs": [
    {
     "name": "stdout",
     "output_type": "stream",
     "text": [
      "Shape of the data is :  (299, 13)\n"
     ]
    },
    {
     "data": {
      "text/html": [
       "<div>\n",
       "<style scoped>\n",
       "    .dataframe tbody tr th:only-of-type {\n",
       "        vertical-align: middle;\n",
       "    }\n",
       "\n",
       "    .dataframe tbody tr th {\n",
       "        vertical-align: top;\n",
       "    }\n",
       "\n",
       "    .dataframe thead th {\n",
       "        text-align: right;\n",
       "    }\n",
       "</style>\n",
       "<table border=\"1\" class=\"dataframe\">\n",
       "  <thead>\n",
       "    <tr style=\"text-align: right;\">\n",
       "      <th></th>\n",
       "      <th>age</th>\n",
       "      <th>anaemia</th>\n",
       "      <th>creatinine_phosphokinase</th>\n",
       "      <th>diabetes</th>\n",
       "      <th>ejection_fraction</th>\n",
       "      <th>high_blood_pressure</th>\n",
       "      <th>platelets</th>\n",
       "      <th>serum_creatinine</th>\n",
       "      <th>serum_sodium</th>\n",
       "      <th>sex</th>\n",
       "      <th>smoking</th>\n",
       "      <th>time</th>\n",
       "      <th>DEATH_EVENT</th>\n",
       "    </tr>\n",
       "  </thead>\n",
       "  <tbody>\n",
       "    <tr>\n",
       "      <th>0</th>\n",
       "      <td>75.0</td>\n",
       "      <td>0</td>\n",
       "      <td>582</td>\n",
       "      <td>0</td>\n",
       "      <td>20</td>\n",
       "      <td>1</td>\n",
       "      <td>265000.00</td>\n",
       "      <td>1.9</td>\n",
       "      <td>130</td>\n",
       "      <td>1</td>\n",
       "      <td>0</td>\n",
       "      <td>4</td>\n",
       "      <td>1</td>\n",
       "    </tr>\n",
       "    <tr>\n",
       "      <th>1</th>\n",
       "      <td>55.0</td>\n",
       "      <td>0</td>\n",
       "      <td>7861</td>\n",
       "      <td>0</td>\n",
       "      <td>38</td>\n",
       "      <td>0</td>\n",
       "      <td>263358.03</td>\n",
       "      <td>1.1</td>\n",
       "      <td>136</td>\n",
       "      <td>1</td>\n",
       "      <td>0</td>\n",
       "      <td>6</td>\n",
       "      <td>1</td>\n",
       "    </tr>\n",
       "    <tr>\n",
       "      <th>2</th>\n",
       "      <td>65.0</td>\n",
       "      <td>0</td>\n",
       "      <td>146</td>\n",
       "      <td>0</td>\n",
       "      <td>20</td>\n",
       "      <td>0</td>\n",
       "      <td>162000.00</td>\n",
       "      <td>1.3</td>\n",
       "      <td>129</td>\n",
       "      <td>1</td>\n",
       "      <td>1</td>\n",
       "      <td>7</td>\n",
       "      <td>1</td>\n",
       "    </tr>\n",
       "    <tr>\n",
       "      <th>3</th>\n",
       "      <td>50.0</td>\n",
       "      <td>1</td>\n",
       "      <td>111</td>\n",
       "      <td>0</td>\n",
       "      <td>20</td>\n",
       "      <td>0</td>\n",
       "      <td>210000.00</td>\n",
       "      <td>1.9</td>\n",
       "      <td>137</td>\n",
       "      <td>1</td>\n",
       "      <td>0</td>\n",
       "      <td>7</td>\n",
       "      <td>1</td>\n",
       "    </tr>\n",
       "    <tr>\n",
       "      <th>4</th>\n",
       "      <td>65.0</td>\n",
       "      <td>1</td>\n",
       "      <td>160</td>\n",
       "      <td>1</td>\n",
       "      <td>20</td>\n",
       "      <td>0</td>\n",
       "      <td>327000.00</td>\n",
       "      <td>2.7</td>\n",
       "      <td>116</td>\n",
       "      <td>0</td>\n",
       "      <td>0</td>\n",
       "      <td>8</td>\n",
       "      <td>1</td>\n",
       "    </tr>\n",
       "  </tbody>\n",
       "</table>\n",
       "</div>"
      ],
      "text/plain": [
       "    age  anaemia  creatinine_phosphokinase  diabetes  ejection_fraction  \\\n",
       "0  75.0        0                       582         0                 20   \n",
       "1  55.0        0                      7861         0                 38   \n",
       "2  65.0        0                       146         0                 20   \n",
       "3  50.0        1                       111         0                 20   \n",
       "4  65.0        1                       160         1                 20   \n",
       "\n",
       "   high_blood_pressure  platelets  serum_creatinine  serum_sodium  sex  \\\n",
       "0                    1  265000.00               1.9           130    1   \n",
       "1                    0  263358.03               1.1           136    1   \n",
       "2                    0  162000.00               1.3           129    1   \n",
       "3                    0  210000.00               1.9           137    1   \n",
       "4                    0  327000.00               2.7           116    0   \n",
       "\n",
       "   smoking  time  DEATH_EVENT  \n",
       "0        0     4            1  \n",
       "1        0     6            1  \n",
       "2        1     7            1  \n",
       "3        0     7            1  \n",
       "4        0     8            1  "
      ]
     },
     "execution_count": 5,
     "metadata": {},
     "output_type": "execute_result"
    }
   ],
   "source": [
    "print(\"Shape of the data is : \", data.shape)\n",
    "data.head()"
   ]
  },
  {
   "cell_type": "markdown",
   "metadata": {},
   "source": [
    " "
   ]
  },
  {
   "cell_type": "markdown",
   "metadata": {},
   "source": [
    "<h1><center>Exploratory Data Analysis</center></h1>\n",
    "<hr>"
   ]
  },
  {
   "cell_type": "markdown",
   "metadata": {},
   "source": [
    "## [1] EDA : Discrete Variables"
   ]
  },
  {
   "cell_type": "markdown",
   "metadata": {},
   "source": [
    "#### [1.1] Death Event analysis"
   ]
  },
  {
   "cell_type": "code",
   "execution_count": 6,
   "metadata": {},
   "outputs": [
    {
     "name": "stdout",
     "output_type": "stream",
     "text": [
      "Total Unique Class labels available in this dataset are : \n",
      "0    203\n",
      "1     96\n",
      "Name: DEATH_EVENT, dtype: int64\n",
      "\n"
     ]
    },
    {
     "data": {
      "image/png": "[encoded data removed]",
      "text/plain": [
       "<Figure size 432x288 with 1 Axes>"
      ]
     },
     "metadata": {},
     "output_type": "display_data"
    }
   ],
   "source": [
    "#DEATH_EVENT\n",
    "print(\"Total Unique Class labels available in this dataset are : \")\n",
    "print(data['DEATH_EVENT'].value_counts())\n",
    "\n",
    "print(\"\")\n",
    "\n",
    "classes = dict(data['DEATH_EVENT'].value_counts())\n",
    "total = sum(classes.values())\n",
    "alive = round(classes[0]/total, 2)\n",
    "dead  = round(classes[1]/total, 2)\n",
    "\n",
    "#plotting Pie Chart\n",
    "#https://matplotlib.org/3.1.1/gallery/pie_and_polar_charts/pie_features.html\n",
    "labels    = 'Alive', 'Dead'\n",
    "sizes     = [alive, dead]\n",
    "explode   = (0, 0.1)\n",
    "fig1, ax1 = plt.subplots()\n",
    "ax1.set_title(\"DEATH_EVENT analysis\")\n",
    "ax1.pie(sizes, explode=explode, labels=labels, autopct='%1.1f%%', shadow=True, startangle=90)\n",
    "ax1.axis('equal')\n",
    "plt.show()"
   ]
  },
  {
   "cell_type": "markdown",
   "metadata": {},
   "source": [
    "<p>From above, we can clearly see, there are large portion of people, having cured from CVDs, which counts to 68%.</p>\n",
    "<p>Out of all, 32% of the people had to loose their lives due to Heart Diseases.</p>"
   ]
  },
  {
   "cell_type": "markdown",
   "metadata": {},
   "source": [
    "#### [1.2] Gender Analysis"
   ]
  },
  {
   "cell_type": "code",
   "execution_count": 7,
   "metadata": {},
   "outputs": [
    {
     "data": {
      "image/png": "[encoded data removed]",
      "text/plain": [
       "<Figure size 576x360 with 2 Axes>"
      ]
     },
     "metadata": {
      "needs_background": "light"
     },
     "output_type": "display_data"
    }
   ],
   "source": [
    "gender_analysis          = pd.DataFrame(data.groupby(by=['sex'])['DEATH_EVENT']\\\n",
    "                                        .agg(lambda x:x.eq(1).sum())).reset_index()\n",
    "gender_analysis['Total'] = pd.DataFrame(data.groupby(by=['sex'])['DEATH_EVENT']\\\n",
    "                                        .agg(total='count')).reset_index()['total']\n",
    "gender_analysis['Avg']   = pd.DataFrame(data.groupby(by=['sex'])['DEATH_EVENT']\\\n",
    "                                        .agg(avg='mean')).reset_index()['avg']\n",
    "\n",
    "plt.figure(figsize=(8, 5))\n",
    "plt.title('Gender Analysis')\n",
    "\n",
    "ax1 = plt.subplot(121)\n",
    "ax1.set_title('Gender Analysis : Female')\n",
    "b1 = plt.bar(np.arange(1), gender_analysis[gender_analysis['sex']==0]['Total'])\n",
    "b2 = plt.bar(np.arange(1), gender_analysis[gender_analysis['sex']==0]['DEATH_EVENT'])\n",
    "\n",
    "ax2 = plt.subplot(122, sharey=ax1)\n",
    "ax2.set_title('Gender Analysis : Male')\n",
    "b3 = plt.bar(np.arange(1), gender_analysis[gender_analysis['sex']==1]['Total'])\n",
    "b4 = plt.bar(np.arange(1), gender_analysis[gender_analysis['sex']==1]['DEATH_EVENT'])\n",
    "\n",
    "plt.tight_layout()\n",
    "plt.show()"
   ]
  },
  {
   "cell_type": "code",
   "execution_count": 8,
   "metadata": {},
   "outputs": [
    {
     "name": "stdout",
     "output_type": "stream",
     "text": [
      "Analysis on Females : \n",
      "Percentage of females present are : 35.12%\n",
      "Percentage of females which are Deceased are : 32.38%\n",
      "\n",
      "Analysis on Males : \n",
      "Percentage of males present are : 64.88%\n",
      "Percentage of males which are Deceased are : 31.96%\n",
      " \n",
      "   Total  DEATH_EVENT\n",
      "0    105           34\n",
      "1    194           62\n"
     ]
    }
   ],
   "source": [
    "print(\"Analysis on Females : \")\n",
    "females = int(gender_analysis[gender_analysis['sex']==0]['Total'])\n",
    "print(\"Percentage of females present are : {0}%\".format(round((females/data.shape[0])*100, 2)))\n",
    "\n",
    "females_deceased = int(gender_analysis[gender_analysis['sex']==0]['DEATH_EVENT'])\n",
    "print(\"Percentage of females which are Deceased are : {0}%\".format(round((females_deceased/females)*100, 2)))\n",
    "\n",
    "\n",
    "print(\"\\nAnalysis on Males : \")\n",
    "males = int(gender_analysis[gender_analysis['sex']==1]['Total'])\n",
    "print(\"Percentage of males present are : {0}%\".format(round((males/data.shape[0])*100, 2)))\n",
    "\n",
    "males_deceased = int(gender_analysis[gender_analysis['sex']==1]['DEATH_EVENT'])\n",
    "print(\"Percentage of males which are Deceased are : {0}%\".format(round((males_deceased/males)*100, 2)))\n",
    "\n",
    "\n",
    "print(\" \")\n",
    "print(gender_analysis[['Total', 'DEATH_EVENT']])"
   ]
  },
  {
   "cell_type": "markdown",
   "metadata": {},
   "source": [
    "<p>\n",
    "    Out of two genders available in dataset, we can see, Male are present in large numbers in the dataset and also comparing their total count, 31.95% of them dies due to Heart Disease.\n",
    "</p>\n",
    "<p>\n",
    "    Females on the other hand, only contribute to 35% cases from complete dataset and out of them, 32% of the females are deceased due to heart issues.\n",
    "</p>"
   ]
  },
  {
   "cell_type": "markdown",
   "metadata": {},
   "source": [
    "#### [1.3] Anaemia Analysis"
   ]
  },
  {
   "cell_type": "code",
   "execution_count": 9,
   "metadata": {
    "scrolled": false
   },
   "outputs": [
    {
     "data": {
      "image/png": "[encoded data removed]",
      "text/plain": [
       "<Figure size 576x360 with 2 Axes>"
      ]
     },
     "metadata": {
      "needs_background": "light"
     },
     "output_type": "display_data"
    }
   ],
   "source": [
    "anaemia_analysis          = pd.DataFrame(data.groupby(by=['anaemia'])['DEATH_EVENT']\\\n",
    "                                        .agg(lambda x:x.eq(1).sum())).reset_index()\n",
    "anaemia_analysis['Total'] = pd.DataFrame(data.groupby(by=['anaemia'])['DEATH_EVENT']\\\n",
    "                                        .agg(total='count')).reset_index()['total']\n",
    "anaemia_analysis['Avg']   = pd.DataFrame(data.groupby(by=['anaemia'])['DEATH_EVENT']\\\n",
    "                                        .agg(avg='mean')).reset_index()['avg']\n",
    "\n",
    "plt.figure(figsize=(8, 5))\n",
    "plt.title('Anaemia Analysis')\n",
    "\n",
    "ax1 = plt.subplot(121)\n",
    "ax1.set_title('Anaemia Analysis : Absent')\n",
    "b1 = plt.bar(np.arange(1), anaemia_analysis[anaemia_analysis['anaemia']==0]['Total'])\n",
    "b2 = plt.bar(np.arange(1), anaemia_analysis[anaemia_analysis['anaemia']==0]['DEATH_EVENT'])\n",
    "\n",
    "ax2 = plt.subplot(122, sharey=ax1)\n",
    "ax2.set_title('Anaemia Analysis : Present')\n",
    "b3 = plt.bar(np.arange(1), anaemia_analysis[anaemia_analysis['anaemia']==1]['Total'])\n",
    "b4 = plt.bar(np.arange(1), anaemia_analysis[anaemia_analysis['anaemia']==1]['DEATH_EVENT'])\n",
    "\n",
    "plt.tight_layout()\n",
    "plt.show()"
   ]
  },
  {
   "cell_type": "code",
   "execution_count": 10,
   "metadata": {},
   "outputs": [
    {
     "name": "stdout",
     "output_type": "stream",
     "text": [
      "Analysis on Anaemia Absent : \n",
      "Percentage of patients where anaemia absent : 56.86%\n",
      "Percentage of females which are Deceased are : 29.41%\n",
      "\n",
      "Analysis on Anaemia Present : \n",
      "Percentage of males present are : 43.14%\n",
      "Percentage of males which are Deceased are : 35.66%\n",
      " \n",
      "   Total  DEATH_EVENT\n",
      "0    170           50\n",
      "1    129           46\n"
     ]
    }
   ],
   "source": [
    "print(\"Analysis on Anaemia Absent : \")\n",
    "anaemia_a = int(anaemia_analysis[anaemia_analysis['anaemia']==0]['Total'])\n",
    "print(\"Percentage of patients where anaemia absent : {0}%\".format(round((anaemia_a/data.shape[0])*100, 2)))\n",
    "\n",
    "anaemia_a_deceased = int(anaemia_analysis[anaemia_analysis['anaemia']==0]['DEATH_EVENT'])\n",
    "print(\"Percentage of females which are Deceased are : {0}%\".format(round((anaemia_a_deceased/anaemia_a)*100, 2)))\n",
    "\n",
    "\n",
    "print(\"\\nAnalysis on Anaemia Present : \")\n",
    "anaemia_p = int(anaemia_analysis[anaemia_analysis['anaemia']==1]['Total'])\n",
    "print(\"Percentage of males present are : {0}%\".format(round((anaemia_p/data.shape[0])*100, 2)))\n",
    "\n",
    "anaemia_p_deceased = int(anaemia_analysis[anaemia_analysis['anaemia']==1]['DEATH_EVENT'])\n",
    "print(\"Percentage of males which are Deceased are : {0}%\".format(round((anaemia_p_deceased/anaemia_p)*100, 2)))\n",
    "\n",
    "\n",
    "print(\" \")\n",
    "print(anaemia_analysis[['Total', 'DEATH_EVENT']])"
   ]
  },
  {
   "cell_type": "markdown",
   "metadata": {},
   "source": [
    "#### [1.4] High Blood Pressure Analysis"
   ]
  },
  {
   "cell_type": "code",
   "execution_count": 11,
   "metadata": {},
   "outputs": [
    {
     "data": {
      "image/png": "[encoded data removed]",
      "text/plain": [
       "<Figure size 576x360 with 2 Axes>"
      ]
     },
     "metadata": {
      "needs_background": "light"
     },
     "output_type": "display_data"
    }
   ],
   "source": [
    "bp_analysis          = pd.DataFrame(data.groupby(by=['high_blood_pressure'])['DEATH_EVENT']\\\n",
    "                                    .agg(lambda x:x.eq(1).sum())).reset_index()\n",
    "bp_analysis['Total'] = pd.DataFrame(data.groupby(by=['high_blood_pressure'])['DEATH_EVENT']\\\n",
    "                                    .agg(total='count')).reset_index()['total']\n",
    "bp_analysis['Avg']   = pd.DataFrame(data.groupby(by=['high_blood_pressure'])['DEATH_EVENT']\\\n",
    "                                    .agg(avg='mean')).reset_index()['avg']\n",
    "\n",
    "plt.figure(figsize=(8, 5))\n",
    "plt.title('High Blood Pressure Analysis')\n",
    "\n",
    "ax1 = plt.subplot(121)\n",
    "ax1.set_title('High BP Analysis : Absent')\n",
    "b1 = plt.bar(np.arange(1), bp_analysis[bp_analysis['high_blood_pressure']==0]['Total'])\n",
    "b2 = plt.bar(np.arange(1), bp_analysis[bp_analysis['high_blood_pressure']==0]['DEATH_EVENT'])\n",
    "\n",
    "ax2 = plt.subplot(122, sharey=ax1)\n",
    "ax2.set_title('High BP Analysis : Present')\n",
    "b3 = plt.bar(np.arange(1), bp_analysis[bp_analysis['high_blood_pressure']==1]['Total'])\n",
    "b4 = plt.bar(np.arange(1), bp_analysis[bp_analysis['high_blood_pressure']==1]['DEATH_EVENT'])\n",
    "\n",
    "plt.tight_layout()\n",
    "plt.show()"
   ]
  },
  {
   "cell_type": "code",
   "execution_count": 12,
   "metadata": {},
   "outputs": [
    {
     "name": "stdout",
     "output_type": "stream",
     "text": [
      "Analysis on absence of High Blood Pressure : \n",
      "Percentage of patients with absence of High Blood Pressure : 64.88%\n",
      "Percentage of patients which are Deceased are : 29.38%\n",
      "\n",
      "Analysis on presence of High Blood Pressure : \n",
      "Percentage of patients with presence of High Blood Pressure : 43.14%\n",
      "Percentage of patients which are Deceased are : 43.81%\n",
      " \n",
      "   Total  DEATH_EVENT\n",
      "0    194           57\n",
      "1    105           39\n"
     ]
    }
   ],
   "source": [
    "print(\"Analysis on absence of High Blood Pressure : \")\n",
    "bp_a = int(bp_analysis[bp_analysis['high_blood_pressure']==0]['Total'])\n",
    "print(\"Percentage of patients with absence of High Blood Pressure : {0}%\".format(round((bp_a/data.shape[0])*100, 2)))\n",
    "\n",
    "bp_a_deceased = int(bp_analysis[bp_analysis['high_blood_pressure']==0]['DEATH_EVENT'])\n",
    "print(\"Percentage of patients which are Deceased are : {0}%\".format(round((bp_a_deceased/bp_a)*100, 2)))\n",
    "\n",
    "\n",
    "print(\"\\nAnalysis on presence of High Blood Pressure : \")\n",
    "bp_p = int(bp_analysis[bp_analysis['high_blood_pressure']==1]['Total'])\n",
    "print(\"Percentage of patients with presence of High Blood Pressure : {0}%\".format(round((anaemia_p/data.shape[0])*100, 2)))\n",
    "\n",
    "bp_p_deceased = int(bp_analysis[bp_analysis['high_blood_pressure']==1]['DEATH_EVENT'])\n",
    "print(\"Percentage of patients which are Deceased are : {0}%\".format(round((anaemia_p_deceased/bp_p)*100, 2)))\n",
    "\n",
    "print(\" \")\n",
    "print(bp_analysis[['Total', 'DEATH_EVENT']])"
   ]
  },
  {
   "cell_type": "markdown",
   "metadata": {},
   "source": [
    "#### [1.5] Smoking Analysis"
   ]
  },
  {
   "cell_type": "code",
   "execution_count": 13,
   "metadata": {},
   "outputs": [
    {
     "data": {
      "image/png": "[encoded data removed]",
      "text/plain": [
       "<Figure size 576x360 with 2 Axes>"
      ]
     },
     "metadata": {
      "needs_background": "light"
     },
     "output_type": "display_data"
    }
   ],
   "source": [
    "smoke_analysis          = pd.DataFrame(data.groupby(by=['smoking'])['DEATH_EVENT']\\\n",
    "                                    .agg(lambda x:x.eq(1).sum())).reset_index()\n",
    "smoke_analysis['Total'] = pd.DataFrame(data.groupby(by=['smoking'])['DEATH_EVENT']\\\n",
    "                                    .agg(total='count')).reset_index()['total']\n",
    "smoke_analysis['Avg']   = pd.DataFrame(data.groupby(by=['smoking'])['DEATH_EVENT']\\\n",
    "                                    .agg(avg='mean')).reset_index()['avg']\n",
    "\n",
    "plt.figure(figsize=(8, 5))\n",
    "plt.title('Smoking Analysis')\n",
    "\n",
    "ax1 = plt.subplot(121)\n",
    "ax1.set_title('Smoking : Absent')\n",
    "b1 = plt.bar(np.arange(1), smoke_analysis[smoke_analysis['smoking']==0]['Total'])\n",
    "b2 = plt.bar(np.arange(1), smoke_analysis[smoke_analysis['smoking']==0]['DEATH_EVENT'])\n",
    "\n",
    "ax2 = plt.subplot(122, sharey=ax1)\n",
    "ax2.set_title('Smoking : Present')\n",
    "b3 = plt.bar(np.arange(1), smoke_analysis[smoke_analysis['smoking']==1]['Total'])\n",
    "b4 = plt.bar(np.arange(1), smoke_analysis[smoke_analysis['smoking']==1]['DEATH_EVENT'])\n",
    "\n",
    "plt.tight_layout()\n",
    "plt.show()"
   ]
  },
  {
   "cell_type": "code",
   "execution_count": 14,
   "metadata": {},
   "outputs": [
    {
     "name": "stdout",
     "output_type": "stream",
     "text": [
      "Analysis on Absence of Smoking : \n",
      "Percentage of patients where Absence of Smoking : 67.89%\n",
      "Percentage of patients which are Deceased are : 32.51%\n",
      "\n",
      "Analysis on Presence of Smoking: \n",
      "Percentage of patients present are : 32.11%\n",
      "Percentage of patients which are Deceased are : 31.25%\n",
      " \n",
      "   Total  DEATH_EVENT\n",
      "0    203           66\n",
      "1     96           30\n"
     ]
    }
   ],
   "source": [
    "print(\"Analysis on Absence of Smoking : \")\n",
    "smoking_a = int(smoke_analysis[smoke_analysis['smoking']==0]['Total'])\n",
    "print(\"Percentage of patients where Absence of Smoking : {0}%\".format(round((smoking_a/data.shape[0])*100, 2)))\n",
    "\n",
    "smoking_a_deceased = int(smoke_analysis[smoke_analysis['smoking']==0]['DEATH_EVENT'])\n",
    "print(\"Percentage of patients which are Deceased are : {0}%\".format(round((smoking_a_deceased/smoking_a)*100, 2)))\n",
    "\n",
    "\n",
    "print(\"\\nAnalysis on Presence of Smoking: \")\n",
    "smoking_p = int(smoke_analysis[smoke_analysis['smoking']==1]['Total'])\n",
    "print(\"Percentage of patients present are : {0}%\".format(round((smoking_p/data.shape[0])*100, 2)))\n",
    "\n",
    "smoking_p_deceased = int(smoke_analysis[smoke_analysis['smoking']==1]['DEATH_EVENT'])\n",
    "print(\"Percentage of patients which are Deceased are : {0}%\".format(round((smoking_p_deceased/smoking_p)*100, 2)))\n",
    "\n",
    "print(\" \")\n",
    "print(smoke_analysis[['Total', 'DEATH_EVENT']])"
   ]
  },
  {
   "cell_type": "markdown",
   "metadata": {},
   "source": [
    "#### [1.6] Diabetese Analysis"
   ]
  },
  {
   "cell_type": "code",
   "execution_count": 15,
   "metadata": {},
   "outputs": [
    {
     "data": {
      "image/png": "[encoded data removed]",
      "text/plain": [
       "<Figure size 576x360 with 2 Axes>"
      ]
     },
     "metadata": {
      "needs_background": "light"
     },
     "output_type": "display_data"
    }
   ],
   "source": [
    "diabetes_analysis          = pd.DataFrame(data.groupby(by=['diabetes'])['DEATH_EVENT']\\\n",
    "                                    .agg(lambda x:x.eq(1).sum())).reset_index()\n",
    "diabetes_analysis['Total'] = pd.DataFrame(data.groupby(by=['diabetes'])['DEATH_EVENT']\\\n",
    "                                    .agg(total='count')).reset_index()['total']\n",
    "diabetes_analysis['Avg']   = pd.DataFrame(data.groupby(by=['diabetes'])['DEATH_EVENT']\\\n",
    "                                    .agg(avg='mean')).reset_index()['avg']\n",
    "\n",
    "plt.figure(figsize=(8, 5))\n",
    "plt.title('Diabetes Analysis')\n",
    "\n",
    "ax1 = plt.subplot(121)\n",
    "ax1.set_title('Diabetes : Absent')\n",
    "b1 = plt.bar(np.arange(1), diabetes_analysis[diabetes_analysis['diabetes']==0]['Total'])\n",
    "b2 = plt.bar(np.arange(1), diabetes_analysis[diabetes_analysis['diabetes']==0]['DEATH_EVENT'])\n",
    "\n",
    "ax2 = plt.subplot(122, sharey=ax1)\n",
    "ax2.set_title('Diabetes : Present')\n",
    "b3 = plt.bar(np.arange(1), diabetes_analysis[diabetes_analysis['diabetes']==1]['Total'])\n",
    "b4 = plt.bar(np.arange(1), diabetes_analysis[diabetes_analysis['diabetes']==1]['DEATH_EVENT'])\n",
    "\n",
    "plt.tight_layout()\n",
    "plt.show()"
   ]
  },
  {
   "cell_type": "code",
   "execution_count": 16,
   "metadata": {},
   "outputs": [
    {
     "name": "stdout",
     "output_type": "stream",
     "text": [
      "Analysis on Absence of Diabetese : \n",
      "Percentage of patients with Absence of Diabetese : 58.19%\n",
      "Percentage of patients which are Deceased are : 32.18%\n",
      "\n",
      "Analysis on Presence of Smoking: \n",
      "Percentage of patients with Presence of Diabetese are : 41.81%\n",
      "Percentage of patients which are Deceased are : 32.0%\n",
      " \n",
      "   Total  DEATH_EVENT\n",
      "0    174           56\n",
      "1    125           40\n"
     ]
    }
   ],
   "source": [
    "print(\"Analysis on Absence of Diabetese : \")\n",
    "diabetese_a = int(diabetes_analysis[diabetes_analysis['diabetes']==0]['Total'])\n",
    "print(\"Percentage of patients with Absence of Diabetese : {0}%\".format(round((diabetese_a/data.shape[0])*100, 2)))\n",
    "\n",
    "diabetese_a_deceased = int(diabetes_analysis[diabetes_analysis['diabetes']==0]['DEATH_EVENT'])\n",
    "print(\"Percentage of patients which are Deceased are : {0}%\".format(round((diabetese_a_deceased/diabetese_a)*100, 2)))\n",
    "\n",
    "\n",
    "print(\"\\nAnalysis on Presence of Smoking: \")\n",
    "diabetese_p = int(diabetes_analysis[diabetes_analysis['diabetes']==1]['Total'])\n",
    "print(\"Percentage of patients with Presence of Diabetese are : {0}%\".format(round((diabetese_p/data.shape[0])*100, 2)))\n",
    "\n",
    "diabetese_p_deceased = int(diabetes_analysis[diabetes_analysis['diabetes']==1]['DEATH_EVENT'])\n",
    "print(\"Percentage of patients which are Deceased are : {0}%\".format(round((diabetese_p_deceased/diabetese_p)*100, 2)))\n",
    "\n",
    "print(\" \")\n",
    "print(diabetes_analysis[['Total', 'DEATH_EVENT']])"
   ]
  },
  {
   "cell_type": "markdown",
   "metadata": {},
   "source": [
    " "
   ]
  },
  {
   "cell_type": "markdown",
   "metadata": {},
   "source": [
    "<p>Comparing the EDA analysis of all categorical features, we can see that heart failure can be seen in people with all given category of symptoms. The amount of patients who experienced heart failure also present in adquete amount even though symptoms of given features were absent in them.</p>"
   ]
  },
  {
   "cell_type": "markdown",
   "metadata": {},
   "source": [
    "## [2] EDA : Continuous Variable"
   ]
  },
  {
   "cell_type": "markdown",
   "metadata": {},
   "source": [
    "#### [2.1] Age Analysis "
   ]
  },
  {
   "cell_type": "markdown",
   "metadata": {},
   "source": [
    "<p>Age plays the important role in any desease or body complications.</p>"
   ]
  },
  {
   "cell_type": "code",
   "execution_count": 17,
   "metadata": {},
   "outputs": [
    {
     "data": {
      "image/png": "[encoded data removed]",
      "text/plain": [
       "<Figure size 720x288 with 1 Axes>"
      ]
     },
     "metadata": {
      "needs_background": "light"
     },
     "output_type": "display_data"
    },
    {
     "name": "stdout",
     "output_type": "stream",
     "text": [
      "Age Analysis :::\n",
      "Minimum age found is 40.000000\n",
      "Average age found is 60.833893\n",
      "Maximum age found is 95.000000\n",
      "\n",
      "Age Analysis ::: Patients who survived\n",
      "Minimum age for patient found to be 40.000000\n",
      "Average age for patient found to be is 58.761906\n",
      "Maximum age for patient found to be is 90.000000\n",
      "\n",
      "Age Analysis ::: Patients who couldn't survive\n",
      "Minimum age for patient found to be 42.000000\n",
      "Average age for patient found to be is 65.215281\n",
      "Maximum age for patient found to be is 95.000000\n"
     ]
    }
   ],
   "source": [
    "age_analysis = data[['age', 'DEATH_EVENT']]\n",
    "\n",
    "plt.figure(figsize=(10, 4))\n",
    "sns.distplot(data['age'], hist=True, label='AGE', color='Green')\n",
    "sns.distplot(data[data['DEATH_EVENT']==0]['age'], hist=False, label='survived', color='orange')\n",
    "sns.distplot(data[data['DEATH_EVENT']==1]['age'], hist=False, label='deceased', color='blue')\n",
    "plt.grid()\n",
    "plt.legend()\n",
    "plt.show()\n",
    "\n",
    "print(\"Age Analysis :::\")\n",
    "print(\"Minimum age found is %f\"%data['age'].min())\n",
    "print(\"Average age found is %f\"%data['age'].mean())\n",
    "print(\"Maximum age found is %f\"%data['age'].max())\n",
    "\n",
    "print(\"\\nAge Analysis ::: Patients who survived\")\n",
    "print(\"Minimum age for patient found to be %f\"%data[data['DEATH_EVENT']==0]['age'].min())\n",
    "print(\"Average age for patient found to be is %f\"%data[data['DEATH_EVENT']==0]['age'].mean())\n",
    "print(\"Maximum age for patient found to be is %f\"%data[data['DEATH_EVENT']==0]['age'].max())\n",
    "\n",
    "print(\"\\nAge Analysis ::: Patients who couldn't survive\")\n",
    "print(\"Minimum age for patient found to be %f\"%data[data['DEATH_EVENT']==1]['age'].min())\n",
    "print(\"Average age for patient found to be is %f\"%data[data['DEATH_EVENT']==1]['age'].mean())\n",
    "print(\"Maximum age for patient found to be is %f\"%data[data['DEATH_EVENT']==1]['age'].max())"
   ]
  },
  {
   "cell_type": "markdown",
   "metadata": {},
   "source": [
    "<p>We can bin the Age feature to convert it into categrical feature</p>"
   ]
  },
  {
   "cell_type": "code",
   "execution_count": 20,
   "metadata": {},
   "outputs": [],
   "source": [
    "def bin_age(age):\n",
    "    \"\"\"\n",
    "    function to bin age variable which is continuous\n",
    "    Age < 40       : 0\n",
    "    40 <= Age < 50 : 1\n",
    "    50 <= Age < 60 : 2\n",
    "    60 <= Age < 70 : 3\n",
    "    70 <= Age < 80 : 4\n",
    "    80 <= Age < 90 : 5\n",
    "    90 <= Age      : 6\n",
    "    \"\"\"\n",
    "    if age<40:\n",
    "        return 0\n",
    "    elif (age>=40) and (age<50):\n",
    "        return 1\n",
    "    elif (age>=50) and (age<60):\n",
    "        return 2\n",
    "    elif (age>=60) and (age<70):\n",
    "        return 3\n",
    "    elif (age>=70) and (age<80):\n",
    "        return 4\n",
    "    elif (age>=80) and (age<90):\n",
    "        return 5\n",
    "    else:\n",
    "        return 6\n",
    "\n",
    "data['age_bin'] = data['age'].map(bin_age)"
   ]
  },
  {
   "cell_type": "code",
   "execution_count": 21,
   "metadata": {},
   "outputs": [
    {
     "data": {
      "image/png": "[encoded data removed]",
      "text/plain": [
       "<Figure size 720x288 with 1 Axes>"
      ]
     },
     "metadata": {
      "needs_background": "light"
     },
     "output_type": "display_data"
    }
   ],
   "source": [
    "plt.figure(figsize=(10, 4))\n",
    "sns.distplot(data['age_bin'], hist=True, label='AGE', color='Green')\n",
    "sns.distplot(data[data['DEATH_EVENT']==0]['age_bin'], hist=False, label='survived', color='orange')\n",
    "sns.distplot(data[data['DEATH_EVENT']==1]['age_bin'], hist=False, label='deceased', color='blue')\n",
    "plt.grid()\n",
    "plt.legend()\n",
    "plt.show()"
   ]
  },
  {
   "cell_type": "code",
   "execution_count": 22,
   "metadata": {},
   "outputs": [
    {
     "data": {
      "text/html": [
       "<div>\n",
       "<style scoped>\n",
       "    .dataframe tbody tr th:only-of-type {\n",
       "        vertical-align: middle;\n",
       "    }\n",
       "\n",
       "    .dataframe tbody tr th {\n",
       "        vertical-align: top;\n",
       "    }\n",
       "\n",
       "    .dataframe thead th {\n",
       "        text-align: right;\n",
       "    }\n",
       "</style>\n",
       "<table border=\"1\" class=\"dataframe\">\n",
       "  <thead>\n",
       "    <tr style=\"text-align: right;\">\n",
       "      <th></th>\n",
       "      <th>age_bin</th>\n",
       "      <th>DEATH_EVENT</th>\n",
       "      <th>Total</th>\n",
       "      <th>Avg</th>\n",
       "    </tr>\n",
       "  </thead>\n",
       "  <tbody>\n",
       "    <tr>\n",
       "      <th>0</th>\n",
       "      <td>1</td>\n",
       "      <td>11</td>\n",
       "      <td>47</td>\n",
       "      <td>0.234043</td>\n",
       "    </tr>\n",
       "    <tr>\n",
       "      <th>1</th>\n",
       "      <td>2</td>\n",
       "      <td>20</td>\n",
       "      <td>82</td>\n",
       "      <td>0.243902</td>\n",
       "    </tr>\n",
       "    <tr>\n",
       "      <th>2</th>\n",
       "      <td>3</td>\n",
       "      <td>27</td>\n",
       "      <td>93</td>\n",
       "      <td>0.290323</td>\n",
       "    </tr>\n",
       "    <tr>\n",
       "      <th>3</th>\n",
       "      <td>4</td>\n",
       "      <td>20</td>\n",
       "      <td>52</td>\n",
       "      <td>0.384615</td>\n",
       "    </tr>\n",
       "    <tr>\n",
       "      <th>4</th>\n",
       "      <td>5</td>\n",
       "      <td>13</td>\n",
       "      <td>19</td>\n",
       "      <td>0.684211</td>\n",
       "    </tr>\n",
       "  </tbody>\n",
       "</table>\n",
       "</div>"
      ],
      "text/plain": [
       "   age_bin  DEATH_EVENT  Total       Avg\n",
       "0        1           11     47  0.234043\n",
       "1        2           20     82  0.243902\n",
       "2        3           27     93  0.290323\n",
       "3        4           20     52  0.384615\n",
       "4        5           13     19  0.684211"
      ]
     },
     "execution_count": 22,
     "metadata": {},
     "output_type": "execute_result"
    }
   ],
   "source": [
    "age_analysis          = pd.DataFrame(data.groupby(by=['age_bin'])['DEATH_EVENT']\\\n",
    "                                    .agg(lambda x:x.eq(1).sum())).reset_index()\n",
    "age_analysis['Total'] = pd.DataFrame(data.groupby(by=['age_bin'])['DEATH_EVENT']\\\n",
    "                                    .agg(total='count')).reset_index()['total']\n",
    "age_analysis['Avg']   = pd.DataFrame(data.groupby(by=['age_bin'])['DEATH_EVENT']\\\n",
    "                                    .agg(avg='mean')).reset_index()['avg']\n",
    "\n",
    "age_analysis.head()"
   ]
  },
  {
   "cell_type": "code",
   "execution_count": 23,
   "metadata": {},
   "outputs": [
    {
     "data": {
      "image/png": "[encoded data removed]",
      "text/plain": [
       "<Figure size 720x360 with 1 Axes>"
      ]
     },
     "metadata": {
      "needs_background": "light"
     },
     "output_type": "display_data"
    }
   ],
   "source": [
    "plt.figure(figsize=(10, 5))\n",
    "b1 = plt.bar(np.arange(len(age_analysis.age_bin)), age_analysis['Total'], label='Total')\n",
    "b2 = plt.bar(np.arange(len(age_analysis.age_bin)), age_analysis['DEATH_EVENT'], label='Deceases')\n",
    "\n",
    "for indx, i in enumerate(b2.patches):\n",
    "    plt.text(i.get_x()+.20, i.get_height()+1, str(round(age_analysis.Avg[indx]*100, 2))+'%', fontsize=12, color='black')\n",
    "    \n",
    "plt.legend()\n",
    "plt.xticks(np.arange(len(age_analysis.age_bin.values)), age_analysis.age_bin.values)\n",
    "plt.grid()\n",
    "plt.show()"
   ]
  },
  {
   "cell_type": "markdown",
   "metadata": {},
   "source": [
    "#### [2.2] creatinine_phosphokinase Analysis"
   ]
  },
  {
   "cell_type": "code",
   "execution_count": 24,
   "metadata": {},
   "outputs": [
    {
     "data": {
      "image/png": "[encoded data removed]",
      "text/plain": [
       "<Figure size 720x288 with 1 Axes>"
      ]
     },
     "metadata": {
      "needs_background": "light"
     },
     "output_type": "display_data"
    },
    {
     "name": "stdout",
     "output_type": "stream",
     "text": [
      "Creatinine_phosphokinase Analysis :::\n",
      "Minimum creatinine_phosphokinase found is 23.000000\n",
      "Average creatinine_phosphokinase found is 581.839465\n",
      "Maximum creatinine_phosphokinase found is 7861.000000\n",
      "\n",
      "Creatinine_phosphokinase Analysis ::: Patients who survived\n",
      "Minimum creatinine_phosphokinase for patient found to be 30.000000\n",
      "Average creatinine_phosphokinase for patient found to be is 540.054187\n",
      "Maximum creatinine_phosphokinase for patient found to be is 5209.000000\n",
      "\n",
      "Creatinine_phosphokinase Analysis ::: Patients who couldn't survive\n",
      "Minimum creatinine_phosphokinase for patient found to be 23.000000\n",
      "Average creatinine_phosphokinase for patient found to be is 670.197917\n",
      "Maximum creatinine_phosphokinase for patient found to be is 7861.000000\n"
     ]
    }
   ],
   "source": [
    "#creatinine_phosphokinase\n",
    "\n",
    "plt.figure(figsize=(10, 4))\n",
    "sns.distplot(data['creatinine_phosphokinase'], hist=True, label='creatinine_phosphokinase', color='Green')\n",
    "sns.distplot(data[data['DEATH_EVENT']==0]['creatinine_phosphokinase'], hist=False, label='survived', color='orange')\n",
    "sns.distplot(data[data['DEATH_EVENT']==1]['creatinine_phosphokinase'], hist=False, label='deceased', color='blue')\n",
    "plt.grid()\n",
    "plt.legend()\n",
    "plt.show()\n",
    "\n",
    "print(\"Creatinine_phosphokinase Analysis :::\")\n",
    "print(\"Minimum creatinine_phosphokinase found is %f\"%data['creatinine_phosphokinase'].min())\n",
    "print(\"Average creatinine_phosphokinase found is %f\"%data['creatinine_phosphokinase'].mean())\n",
    "print(\"Maximum creatinine_phosphokinase found is %f\"%data['creatinine_phosphokinase'].max())\n",
    "\n",
    "print(\"\\nCreatinine_phosphokinase Analysis ::: Patients who survived\")\n",
    "print(\"Minimum creatinine_phosphokinase for patient found to be %f\"%data[data['DEATH_EVENT']==0]['creatinine_phosphokinase'].min())\n",
    "print(\"Average creatinine_phosphokinase for patient found to be is %f\"%data[data['DEATH_EVENT']==0]['creatinine_phosphokinase'].mean())\n",
    "print(\"Maximum creatinine_phosphokinase for patient found to be is %f\"%data[data['DEATH_EVENT']==0]['creatinine_phosphokinase'].max())\n",
    "\n",
    "print(\"\\nCreatinine_phosphokinase Analysis ::: Patients who couldn't survive\")\n",
    "print(\"Minimum creatinine_phosphokinase for patient found to be %f\"%data[data['DEATH_EVENT']==1]['creatinine_phosphokinase'].min())\n",
    "print(\"Average creatinine_phosphokinase for patient found to be is %f\"%data[data['DEATH_EVENT']==1]['creatinine_phosphokinase'].mean())\n",
    "print(\"Maximum creatinine_phosphokinase for patient found to be is %f\"%data[data['DEATH_EVENT']==1]['creatinine_phosphokinase'].max())"
   ]
  },
  {
   "cell_type": "code",
   "execution_count": 25,
   "metadata": {},
   "outputs": [
    {
     "data": {
      "image/png": "[encoded data removed]",
      "text/plain": [
       "<Figure size 1080x288 with 3 Axes>"
      ]
     },
     "metadata": {
      "needs_background": "light"
     },
     "output_type": "display_data"
    }
   ],
   "source": [
    "#plotting the box plot\n",
    "plt.figure(figsize=(15, 4))\n",
    "\n",
    "ax1=plt.subplot(131)\n",
    "sns.boxplot(y=data['creatinine_phosphokinase'], ax=ax1)\n",
    "ax1.set_title('Cretinine Phosphokinase in all patients')\n",
    "ax1.grid()\n",
    "\n",
    "ax2=plt.subplot(132)\n",
    "sns.boxplot(y=data[data['DEATH_EVENT']==0]['creatinine_phosphokinase'], ax=ax2)\n",
    "ax2.set_title('Cretinine Phosphokinase in survived patients')\n",
    "ax2.grid()\n",
    "\n",
    "ax3=plt.subplot(133)\n",
    "sns.boxplot(y=data[data['DEATH_EVENT']==1]['creatinine_phosphokinase'], ax=ax3)\n",
    "ax3.set_title('Cretinine Phosphokinase in deceased patients')\n",
    "ax3.grid()\n",
    "\n",
    "plt.tight_layout()\n",
    "plt.show()"
   ]
  },
  {
   "cell_type": "code",
   "execution_count": 26,
   "metadata": {},
   "outputs": [
    {
     "data": {
      "image/png": "[encoded data removed]",
      "text/plain": [
       "<Figure size 1080x288 with 3 Axes>"
      ]
     },
     "metadata": {
      "needs_background": "light"
     },
     "output_type": "display_data"
    }
   ],
   "source": [
    "#plotting the box plot\n",
    "plt.figure(figsize=(15, 4))\n",
    "\n",
    "ax1=plt.subplot(131)\n",
    "sns.boxplot(y=[x for x in data['creatinine_phosphokinase'].values if x < 1500], ax=ax1)\n",
    "ax1.set_title('Cretinine Phosphokinase in all patients')\n",
    "ax1.grid()\n",
    "\n",
    "ax2=plt.subplot(132)\n",
    "sns.boxplot(y=[x for x in data[data['DEATH_EVENT']==0]['creatinine_phosphokinase'].values if x < 1500], ax=ax2)\n",
    "ax2.set_title('Cretinine Phosphokinase in survived patients')\n",
    "ax2.grid()\n",
    "\n",
    "ax3=plt.subplot(133)\n",
    "sns.boxplot(y=[x for x in data[data['DEATH_EVENT']==1]['creatinine_phosphokinase'].values if x < 1500], ax=ax3)\n",
    "ax3.set_title('Cretinine Phosphokinase in deceased patients')\n",
    "ax3.grid()\n",
    "\n",
    "plt.tight_layout()\n",
    "plt.show()"
   ]
  },
  {
   "cell_type": "code",
   "execution_count": 27,
   "metadata": {},
   "outputs": [
    {
     "data": {
      "text/html": [
       "<div>\n",
       "<style scoped>\n",
       "    .dataframe tbody tr th:only-of-type {\n",
       "        vertical-align: middle;\n",
       "    }\n",
       "\n",
       "    .dataframe tbody tr th {\n",
       "        vertical-align: top;\n",
       "    }\n",
       "\n",
       "    .dataframe thead th {\n",
       "        text-align: right;\n",
       "    }\n",
       "</style>\n",
       "<table border=\"1\" class=\"dataframe\">\n",
       "  <thead>\n",
       "    <tr style=\"text-align: right;\">\n",
       "      <th></th>\n",
       "      <th>age</th>\n",
       "      <th>anaemia</th>\n",
       "      <th>creatinine_phosphokinase</th>\n",
       "      <th>diabetes</th>\n",
       "      <th>ejection_fraction</th>\n",
       "      <th>high_blood_pressure</th>\n",
       "      <th>platelets</th>\n",
       "      <th>serum_creatinine</th>\n",
       "      <th>serum_sodium</th>\n",
       "      <th>sex</th>\n",
       "      <th>smoking</th>\n",
       "      <th>time</th>\n",
       "      <th>DEATH_EVENT</th>\n",
       "      <th>age_bin</th>\n",
       "      <th>creatinine_phosphokinase_bin</th>\n",
       "    </tr>\n",
       "  </thead>\n",
       "  <tbody>\n",
       "    <tr>\n",
       "      <th>0</th>\n",
       "      <td>75.0</td>\n",
       "      <td>0</td>\n",
       "      <td>582</td>\n",
       "      <td>0</td>\n",
       "      <td>20</td>\n",
       "      <td>1</td>\n",
       "      <td>265000.00</td>\n",
       "      <td>1.9</td>\n",
       "      <td>130</td>\n",
       "      <td>1</td>\n",
       "      <td>0</td>\n",
       "      <td>4</td>\n",
       "      <td>1</td>\n",
       "      <td>4</td>\n",
       "      <td>3</td>\n",
       "    </tr>\n",
       "    <tr>\n",
       "      <th>1</th>\n",
       "      <td>55.0</td>\n",
       "      <td>0</td>\n",
       "      <td>7861</td>\n",
       "      <td>0</td>\n",
       "      <td>38</td>\n",
       "      <td>0</td>\n",
       "      <td>263358.03</td>\n",
       "      <td>1.1</td>\n",
       "      <td>136</td>\n",
       "      <td>1</td>\n",
       "      <td>0</td>\n",
       "      <td>6</td>\n",
       "      <td>1</td>\n",
       "      <td>2</td>\n",
       "      <td>7</td>\n",
       "    </tr>\n",
       "    <tr>\n",
       "      <th>2</th>\n",
       "      <td>65.0</td>\n",
       "      <td>0</td>\n",
       "      <td>146</td>\n",
       "      <td>0</td>\n",
       "      <td>20</td>\n",
       "      <td>0</td>\n",
       "      <td>162000.00</td>\n",
       "      <td>1.3</td>\n",
       "      <td>129</td>\n",
       "      <td>1</td>\n",
       "      <td>1</td>\n",
       "      <td>7</td>\n",
       "      <td>1</td>\n",
       "      <td>3</td>\n",
       "      <td>1</td>\n",
       "    </tr>\n",
       "    <tr>\n",
       "      <th>3</th>\n",
       "      <td>50.0</td>\n",
       "      <td>1</td>\n",
       "      <td>111</td>\n",
       "      <td>0</td>\n",
       "      <td>20</td>\n",
       "      <td>0</td>\n",
       "      <td>210000.00</td>\n",
       "      <td>1.9</td>\n",
       "      <td>137</td>\n",
       "      <td>1</td>\n",
       "      <td>0</td>\n",
       "      <td>7</td>\n",
       "      <td>1</td>\n",
       "      <td>2</td>\n",
       "      <td>1</td>\n",
       "    </tr>\n",
       "    <tr>\n",
       "      <th>4</th>\n",
       "      <td>65.0</td>\n",
       "      <td>1</td>\n",
       "      <td>160</td>\n",
       "      <td>1</td>\n",
       "      <td>20</td>\n",
       "      <td>0</td>\n",
       "      <td>327000.00</td>\n",
       "      <td>2.7</td>\n",
       "      <td>116</td>\n",
       "      <td>0</td>\n",
       "      <td>0</td>\n",
       "      <td>8</td>\n",
       "      <td>1</td>\n",
       "      <td>3</td>\n",
       "      <td>1</td>\n",
       "    </tr>\n",
       "  </tbody>\n",
       "</table>\n",
       "</div>"
      ],
      "text/plain": [
       "    age  anaemia  creatinine_phosphokinase  diabetes  ejection_fraction  \\\n",
       "0  75.0        0                       582         0                 20   \n",
       "1  55.0        0                      7861         0                 38   \n",
       "2  65.0        0                       146         0                 20   \n",
       "3  50.0        1                       111         0                 20   \n",
       "4  65.0        1                       160         1                 20   \n",
       "\n",
       "   high_blood_pressure  platelets  serum_creatinine  serum_sodium  sex  \\\n",
       "0                    1  265000.00               1.9           130    1   \n",
       "1                    0  263358.03               1.1           136    1   \n",
       "2                    0  162000.00               1.3           129    1   \n",
       "3                    0  210000.00               1.9           137    1   \n",
       "4                    0  327000.00               2.7           116    0   \n",
       "\n",
       "   smoking  time  DEATH_EVENT  age_bin  creatinine_phosphokinase_bin  \n",
       "0        0     4            1        4                             3  \n",
       "1        0     6            1        2                             7  \n",
       "2        1     7            1        3                             1  \n",
       "3        0     7            1        2                             1  \n",
       "4        0     8            1        3                             1  "
      ]
     },
     "execution_count": 27,
     "metadata": {},
     "output_type": "execute_result"
    }
   ],
   "source": [
    "def bin_creatinine_phosphokinase(creatinine):\n",
    "    \"\"\"\n",
    "    binning creatinine phosphokinase \n",
    "    cp  < 0 : 0\n",
    "    0   <= cp  < 200  : 1\n",
    "    200 <= cp  < 400  : 2\n",
    "    400 <= cp  < 600  : 3\n",
    "    600 <= cp  < 800  : 4\n",
    "    800 <= cp  < 1000 : 5\n",
    "    1000 <= cp < 1200 : 6\n",
    "    1200 <= cp        : 7\n",
    "    \"\"\"\n",
    "    if creatinine<0:\n",
    "        return 0\n",
    "    elif (creatinine>=0) and (creatinine<200):\n",
    "        return 1\n",
    "    elif (creatinine>=200) and (creatinine<400):\n",
    "        return 2\n",
    "    elif (creatinine>=400) and (creatinine<600):\n",
    "        return 3\n",
    "    elif (creatinine>=600) and (creatinine<800):\n",
    "        return 4\n",
    "    elif (creatinine>=800) and (creatinine<1000):\n",
    "        return 5\n",
    "    elif (creatinine>=1000) and (creatinine<1200):\n",
    "        return 6\n",
    "    else:\n",
    "        return 7\n",
    "\n",
    "data['creatinine_phosphokinase_bin'] = data['creatinine_phosphokinase'].map(bin_creatinine_phosphokinase)\n",
    "data.head()"
   ]
  },
  {
   "cell_type": "code",
   "execution_count": 28,
   "metadata": {},
   "outputs": [
    {
     "data": {
      "text/html": [
       "<div>\n",
       "<style scoped>\n",
       "    .dataframe tbody tr th:only-of-type {\n",
       "        vertical-align: middle;\n",
       "    }\n",
       "\n",
       "    .dataframe tbody tr th {\n",
       "        vertical-align: top;\n",
       "    }\n",
       "\n",
       "    .dataframe thead th {\n",
       "        text-align: right;\n",
       "    }\n",
       "</style>\n",
       "<table border=\"1\" class=\"dataframe\">\n",
       "  <thead>\n",
       "    <tr style=\"text-align: right;\">\n",
       "      <th></th>\n",
       "      <th>creatinine_phosphokinase_bin</th>\n",
       "      <th>DEATH_EVENT</th>\n",
       "      <th>Total</th>\n",
       "      <th>Avg</th>\n",
       "    </tr>\n",
       "  </thead>\n",
       "  <tbody>\n",
       "    <tr>\n",
       "      <th>0</th>\n",
       "      <td>1</td>\n",
       "      <td>40</td>\n",
       "      <td>128</td>\n",
       "      <td>0.312500</td>\n",
       "    </tr>\n",
       "    <tr>\n",
       "      <th>1</th>\n",
       "      <td>2</td>\n",
       "      <td>17</td>\n",
       "      <td>49</td>\n",
       "      <td>0.346939</td>\n",
       "    </tr>\n",
       "    <tr>\n",
       "      <th>2</th>\n",
       "      <td>3</td>\n",
       "      <td>23</td>\n",
       "      <td>59</td>\n",
       "      <td>0.389831</td>\n",
       "    </tr>\n",
       "    <tr>\n",
       "      <th>3</th>\n",
       "      <td>4</td>\n",
       "      <td>2</td>\n",
       "      <td>15</td>\n",
       "      <td>0.133333</td>\n",
       "    </tr>\n",
       "    <tr>\n",
       "      <th>4</th>\n",
       "      <td>5</td>\n",
       "      <td>4</td>\n",
       "      <td>12</td>\n",
       "      <td>0.333333</td>\n",
       "    </tr>\n",
       "  </tbody>\n",
       "</table>\n",
       "</div>"
      ],
      "text/plain": [
       "   creatinine_phosphokinase_bin  DEATH_EVENT  Total       Avg\n",
       "0                             1           40    128  0.312500\n",
       "1                             2           17     49  0.346939\n",
       "2                             3           23     59  0.389831\n",
       "3                             4            2     15  0.133333\n",
       "4                             5            4     12  0.333333"
      ]
     },
     "execution_count": 28,
     "metadata": {},
     "output_type": "execute_result"
    }
   ],
   "source": [
    "cp_analysis          = pd.DataFrame(data.groupby(by=['creatinine_phosphokinase_bin'])['DEATH_EVENT']\\\n",
    "                                    .agg(lambda x:x.eq(1).sum())).reset_index()\n",
    "cp_analysis['Total'] = pd.DataFrame(data.groupby(by=['creatinine_phosphokinase_bin'])['DEATH_EVENT']\\\n",
    "                                    .agg(total='count')).reset_index()['total']\n",
    "cp_analysis['Avg']   = pd.DataFrame(data.groupby(by=['creatinine_phosphokinase_bin'])['DEATH_EVENT']\\\n",
    "                                    .agg(avg='mean')).reset_index()['avg']\n",
    "\n",
    "cp_analysis.head()"
   ]
  },
  {
   "cell_type": "code",
   "execution_count": 29,
   "metadata": {},
   "outputs": [
    {
     "data": {
      "image/png": "[encoded data removed]",
      "text/plain": [
       "<Figure size 720x360 with 1 Axes>"
      ]
     },
     "metadata": {
      "needs_background": "light"
     },
     "output_type": "display_data"
    }
   ],
   "source": [
    "plt.figure(figsize=(10, 5))\n",
    "b1 = plt.bar(np.arange(len(cp_analysis.creatinine_phosphokinase_bin)), cp_analysis['Total'], label='Total')\n",
    "b2 = plt.bar(np.arange(len(cp_analysis.creatinine_phosphokinase_bin)), cp_analysis['DEATH_EVENT'], label='Deceases')\n",
    "\n",
    "for indx, i in enumerate(b2.patches):\n",
    "    plt.text(i.get_x()+.10, i.get_height()+1, str(round(cp_analysis.Avg[indx]*100, 2))+'%', fontsize=12, color='black')\n",
    "    \n",
    "plt.legend()\n",
    "plt.xticks(np.arange(len(cp_analysis.creatinine_phosphokinase_bin.values)), cp_analysis.creatinine_phosphokinase_bin.values)\n",
    "plt.grid()\n",
    "plt.show()"
   ]
  },
  {
   "cell_type": "markdown",
   "metadata": {},
   "source": [
    "#### [2.3] Ejection Fraction Analysis"
   ]
  },
  {
   "cell_type": "markdown",
   "metadata": {},
   "source": [
    "<p>The ejection fraction measures how much blood inside the ventricle is pumped out with each contraction. The left ventricle squeezes and pumps some (but not all) of the blood in the ventricle out to your body. A normal ejection fraction is more than 55%. This means that 55% of the total blood in the left ventricle is pumped out with each heartbeat.</p>\n",
    "\n",
    "<p>\n",
    "    <li>Ejection Fraction (EF) 55% to 70%    :: Normal</li>\n",
    "    <li>Ejection Fraction (EF) 40% to 54%    :: Slightly below normal</li>\n",
    "    <li>Ejection Fraction (EF) 35% to 39%    :: Moderately below normal</li>\n",
    "    <li>Ejection Fraction (EF) Less than 35% :: Severely below normal</li>\n",
    "</p>\n",
    "\n",
    "<p>reference link : https://my.clevelandclinic.org/health/diseases/17069-heart-failure-understanding-heart-failure</p>"
   ]
  },
  {
   "cell_type": "code",
   "execution_count": 30,
   "metadata": {},
   "outputs": [
    {
     "data": {
      "text/plain": [
       "35    49\n",
       "38    40\n",
       "40    37\n",
       "25    36\n",
       "30    34\n",
       "Name: ejection_fraction, dtype: int64"
      ]
     },
     "execution_count": 30,
     "metadata": {},
     "output_type": "execute_result"
    }
   ],
   "source": [
    "data['ejection_fraction'].value_counts().head()"
   ]
  },
  {
   "cell_type": "code",
   "execution_count": 31,
   "metadata": {},
   "outputs": [
    {
     "data": {
      "image/png": "[encoded data removed]",
      "text/plain": [
       "<Figure size 720x288 with 1 Axes>"
      ]
     },
     "metadata": {
      "needs_background": "light"
     },
     "output_type": "display_data"
    }
   ],
   "source": [
    "plt.figure(figsize=(10, 4))\n",
    "sns.distplot(data['ejection_fraction'], hist=True, label='EF', color='Green')\n",
    "sns.distplot(data[data['DEATH_EVENT']==0]['ejection_fraction'], hist=False, label='survived', color='orange')\n",
    "sns.distplot(data[data['DEATH_EVENT']==1]['ejection_fraction'], hist=False, label='deceased', color='blue')\n",
    "plt.grid()\n",
    "plt.legend()\n",
    "plt.show()"
   ]
  },
  {
   "cell_type": "code",
   "execution_count": 32,
   "metadata": {},
   "outputs": [
    {
     "data": {
      "image/png": "[encoded data removed]",
      "text/plain": [
       "<Figure size 1080x288 with 3 Axes>"
      ]
     },
     "metadata": {
      "needs_background": "light"
     },
     "output_type": "display_data"
    }
   ],
   "source": [
    "#plotting the box plot\n",
    "plt.figure(figsize=(15, 4))\n",
    "\n",
    "ax1=plt.subplot(131)\n",
    "sns.boxplot(y=data['ejection_fraction'], ax=ax1)\n",
    "ax1.set_title('Ejection Fraction in all patients')\n",
    "ax1.grid()\n",
    "\n",
    "ax2=plt.subplot(132)\n",
    "sns.boxplot(y=data[data['DEATH_EVENT']==0]['ejection_fraction'], ax=ax2)\n",
    "ax2.set_title('Ejection Fraction in survived patients')\n",
    "ax2.grid()\n",
    "\n",
    "ax3=plt.subplot(133)\n",
    "sns.boxplot(y=data[data['DEATH_EVENT']==1]['ejection_fraction'], ax=ax3)\n",
    "ax3.set_title('Ejection Fraction in deceased patients')\n",
    "ax3.grid()\n",
    "\n",
    "plt.tight_layout()\n",
    "plt.show()"
   ]
  },
  {
   "cell_type": "code",
   "execution_count": 33,
   "metadata": {},
   "outputs": [
    {
     "data": {
      "text/html": [
       "<div>\n",
       "<style scoped>\n",
       "    .dataframe tbody tr th:only-of-type {\n",
       "        vertical-align: middle;\n",
       "    }\n",
       "\n",
       "    .dataframe tbody tr th {\n",
       "        vertical-align: top;\n",
       "    }\n",
       "\n",
       "    .dataframe thead th {\n",
       "        text-align: right;\n",
       "    }\n",
       "</style>\n",
       "<table border=\"1\" class=\"dataframe\">\n",
       "  <thead>\n",
       "    <tr style=\"text-align: right;\">\n",
       "      <th></th>\n",
       "      <th>age</th>\n",
       "      <th>anaemia</th>\n",
       "      <th>creatinine_phosphokinase</th>\n",
       "      <th>diabetes</th>\n",
       "      <th>ejection_fraction</th>\n",
       "      <th>high_blood_pressure</th>\n",
       "      <th>platelets</th>\n",
       "      <th>serum_creatinine</th>\n",
       "      <th>serum_sodium</th>\n",
       "      <th>sex</th>\n",
       "      <th>smoking</th>\n",
       "      <th>time</th>\n",
       "      <th>DEATH_EVENT</th>\n",
       "      <th>age_bin</th>\n",
       "      <th>creatinine_phosphokinase_bin</th>\n",
       "      <th>ejection_fraction_bin</th>\n",
       "    </tr>\n",
       "  </thead>\n",
       "  <tbody>\n",
       "    <tr>\n",
       "      <th>0</th>\n",
       "      <td>75.0</td>\n",
       "      <td>0</td>\n",
       "      <td>582</td>\n",
       "      <td>0</td>\n",
       "      <td>20</td>\n",
       "      <td>1</td>\n",
       "      <td>265000.00</td>\n",
       "      <td>1.9</td>\n",
       "      <td>130</td>\n",
       "      <td>1</td>\n",
       "      <td>0</td>\n",
       "      <td>4</td>\n",
       "      <td>1</td>\n",
       "      <td>4</td>\n",
       "      <td>3</td>\n",
       "      <td>0</td>\n",
       "    </tr>\n",
       "    <tr>\n",
       "      <th>1</th>\n",
       "      <td>55.0</td>\n",
       "      <td>0</td>\n",
       "      <td>7861</td>\n",
       "      <td>0</td>\n",
       "      <td>38</td>\n",
       "      <td>0</td>\n",
       "      <td>263358.03</td>\n",
       "      <td>1.1</td>\n",
       "      <td>136</td>\n",
       "      <td>1</td>\n",
       "      <td>0</td>\n",
       "      <td>6</td>\n",
       "      <td>1</td>\n",
       "      <td>2</td>\n",
       "      <td>7</td>\n",
       "      <td>1</td>\n",
       "    </tr>\n",
       "    <tr>\n",
       "      <th>2</th>\n",
       "      <td>65.0</td>\n",
       "      <td>0</td>\n",
       "      <td>146</td>\n",
       "      <td>0</td>\n",
       "      <td>20</td>\n",
       "      <td>0</td>\n",
       "      <td>162000.00</td>\n",
       "      <td>1.3</td>\n",
       "      <td>129</td>\n",
       "      <td>1</td>\n",
       "      <td>1</td>\n",
       "      <td>7</td>\n",
       "      <td>1</td>\n",
       "      <td>3</td>\n",
       "      <td>1</td>\n",
       "      <td>0</td>\n",
       "    </tr>\n",
       "    <tr>\n",
       "      <th>3</th>\n",
       "      <td>50.0</td>\n",
       "      <td>1</td>\n",
       "      <td>111</td>\n",
       "      <td>0</td>\n",
       "      <td>20</td>\n",
       "      <td>0</td>\n",
       "      <td>210000.00</td>\n",
       "      <td>1.9</td>\n",
       "      <td>137</td>\n",
       "      <td>1</td>\n",
       "      <td>0</td>\n",
       "      <td>7</td>\n",
       "      <td>1</td>\n",
       "      <td>2</td>\n",
       "      <td>1</td>\n",
       "      <td>0</td>\n",
       "    </tr>\n",
       "    <tr>\n",
       "      <th>4</th>\n",
       "      <td>65.0</td>\n",
       "      <td>1</td>\n",
       "      <td>160</td>\n",
       "      <td>1</td>\n",
       "      <td>20</td>\n",
       "      <td>0</td>\n",
       "      <td>327000.00</td>\n",
       "      <td>2.7</td>\n",
       "      <td>116</td>\n",
       "      <td>0</td>\n",
       "      <td>0</td>\n",
       "      <td>8</td>\n",
       "      <td>1</td>\n",
       "      <td>3</td>\n",
       "      <td>1</td>\n",
       "      <td>0</td>\n",
       "    </tr>\n",
       "  </tbody>\n",
       "</table>\n",
       "</div>"
      ],
      "text/plain": [
       "    age  anaemia  creatinine_phosphokinase  diabetes  ejection_fraction  \\\n",
       "0  75.0        0                       582         0                 20   \n",
       "1  55.0        0                      7861         0                 38   \n",
       "2  65.0        0                       146         0                 20   \n",
       "3  50.0        1                       111         0                 20   \n",
       "4  65.0        1                       160         1                 20   \n",
       "\n",
       "   high_blood_pressure  platelets  serum_creatinine  serum_sodium  sex  \\\n",
       "0                    1  265000.00               1.9           130    1   \n",
       "1                    0  263358.03               1.1           136    1   \n",
       "2                    0  162000.00               1.3           129    1   \n",
       "3                    0  210000.00               1.9           137    1   \n",
       "4                    0  327000.00               2.7           116    0   \n",
       "\n",
       "   smoking  time  DEATH_EVENT  age_bin  creatinine_phosphokinase_bin  \\\n",
       "0        0     4            1        4                             3   \n",
       "1        0     6            1        2                             7   \n",
       "2        1     7            1        3                             1   \n",
       "3        0     7            1        2                             1   \n",
       "4        0     8            1        3                             1   \n",
       "\n",
       "   ejection_fraction_bin  \n",
       "0                      0  \n",
       "1                      1  \n",
       "2                      0  \n",
       "3                      0  \n",
       "4                      0  "
      ]
     },
     "execution_count": 33,
     "metadata": {},
     "output_type": "execute_result"
    }
   ],
   "source": [
    "def bin_ef(x):\n",
    "    \"\"\"\n",
    "    binning ejection fraction\n",
    "    35 <= ef : 0\n",
    "    35 < ef <= 39 : 1\n",
    "    39 < ef <= 54 : 2\n",
    "    54 < ef <= 70 : 3\n",
    "    70 < ef       : 4\n",
    "    \"\"\"\n",
    "    if x<=35:\n",
    "        return 0\n",
    "    elif (x>35) and (x<=39):\n",
    "        return 1\n",
    "    elif (x>39) and (x<=54):\n",
    "        return 2\n",
    "    elif (x>54) and (x<=70):\n",
    "        return 3\n",
    "    else:\n",
    "        return 4\n",
    "    \n",
    "data['ejection_fraction_bin'] = data['ejection_fraction'].map(bin_ef)\n",
    "data.head()"
   ]
  },
  {
   "cell_type": "code",
   "execution_count": 34,
   "metadata": {},
   "outputs": [
    {
     "data": {
      "text/html": [
       "<div>\n",
       "<style scoped>\n",
       "    .dataframe tbody tr th:only-of-type {\n",
       "        vertical-align: middle;\n",
       "    }\n",
       "\n",
       "    .dataframe tbody tr th {\n",
       "        vertical-align: top;\n",
       "    }\n",
       "\n",
       "    .dataframe thead th {\n",
       "        text-align: right;\n",
       "    }\n",
       "</style>\n",
       "<table border=\"1\" class=\"dataframe\">\n",
       "  <thead>\n",
       "    <tr style=\"text-align: right;\">\n",
       "      <th></th>\n",
       "      <th>ejection_fraction_bin</th>\n",
       "      <th>DEATH_EVENT</th>\n",
       "      <th>Total</th>\n",
       "      <th>Avg</th>\n",
       "    </tr>\n",
       "  </thead>\n",
       "  <tbody>\n",
       "    <tr>\n",
       "      <th>0</th>\n",
       "      <td>0</td>\n",
       "      <td>58</td>\n",
       "      <td>142</td>\n",
       "      <td>0.408451</td>\n",
       "    </tr>\n",
       "    <tr>\n",
       "      <th>1</th>\n",
       "      <td>1</td>\n",
       "      <td>15</td>\n",
       "      <td>40</td>\n",
       "      <td>0.375000</td>\n",
       "    </tr>\n",
       "    <tr>\n",
       "      <th>2</th>\n",
       "      <td>2</td>\n",
       "      <td>15</td>\n",
       "      <td>78</td>\n",
       "      <td>0.192308</td>\n",
       "    </tr>\n",
       "    <tr>\n",
       "      <th>3</th>\n",
       "      <td>3</td>\n",
       "      <td>8</td>\n",
       "      <td>38</td>\n",
       "      <td>0.210526</td>\n",
       "    </tr>\n",
       "    <tr>\n",
       "      <th>4</th>\n",
       "      <td>4</td>\n",
       "      <td>0</td>\n",
       "      <td>1</td>\n",
       "      <td>0.000000</td>\n",
       "    </tr>\n",
       "  </tbody>\n",
       "</table>\n",
       "</div>"
      ],
      "text/plain": [
       "   ejection_fraction_bin  DEATH_EVENT  Total       Avg\n",
       "0                      0           58    142  0.408451\n",
       "1                      1           15     40  0.375000\n",
       "2                      2           15     78  0.192308\n",
       "3                      3            8     38  0.210526\n",
       "4                      4            0      1  0.000000"
      ]
     },
     "execution_count": 34,
     "metadata": {},
     "output_type": "execute_result"
    }
   ],
   "source": [
    "ef_analysis          = pd.DataFrame(data.groupby(by=['ejection_fraction_bin'])['DEATH_EVENT']\\\n",
    "                                    .agg(lambda x:x.eq(1).sum())).reset_index()\n",
    "ef_analysis['Total'] = pd.DataFrame(data.groupby(by=['ejection_fraction_bin'])['DEATH_EVENT']\\\n",
    "                                    .agg(total='count')).reset_index()['total']\n",
    "ef_analysis['Avg']   = pd.DataFrame(data.groupby(by=['ejection_fraction_bin'])['DEATH_EVENT']\\\n",
    "                                    .agg(avg='mean')).reset_index()['avg']\n",
    "\n",
    "ef_analysis.head()"
   ]
  },
  {
   "cell_type": "code",
   "execution_count": 35,
   "metadata": {},
   "outputs": [
    {
     "data": {
      "image/png": "[encoded data removed]",
      "text/plain": [
       "<Figure size 720x360 with 1 Axes>"
      ]
     },
     "metadata": {
      "needs_background": "light"
     },
     "output_type": "display_data"
    }
   ],
   "source": [
    "plt.figure(figsize=(10, 5))\n",
    "b1 = plt.bar(np.arange(len(ef_analysis.ejection_fraction_bin)), ef_analysis['Total'], label='Total')\n",
    "b2 = plt.bar(np.arange(len(ef_analysis.ejection_fraction_bin)), ef_analysis['DEATH_EVENT'], label='Deceases')\n",
    "\n",
    "for indx, i in enumerate(b2.patches):\n",
    "    plt.text(i.get_x()+.20, i.get_height()+1, str(round(ef_analysis.Avg[indx]*100, 2))+'%', fontsize=12, color='black')\n",
    "    \n",
    "plt.legend()\n",
    "plt.grid()\n",
    "plt.show()"
   ]
  },
  {
   "cell_type": "markdown",
   "metadata": {},
   "source": [
    "#### [2.4] Platelets Analysis"
   ]
  },
  {
   "cell_type": "code",
   "execution_count": 36,
   "metadata": {},
   "outputs": [
    {
     "data": {
      "text/plain": [
       "263358.03    25\n",
       "271000.00     4\n",
       "221000.00     4\n",
       "255000.00     4\n",
       "228000.00     4\n",
       "Name: platelets, dtype: int64"
      ]
     },
     "execution_count": 36,
     "metadata": {},
     "output_type": "execute_result"
    }
   ],
   "source": [
    "data['platelets'].value_counts().head()"
   ]
  },
  {
   "cell_type": "code",
   "execution_count": 37,
   "metadata": {},
   "outputs": [
    {
     "data": {
      "image/png": "[encoded data removed]",
      "text/plain": [
       "<Figure size 720x288 with 1 Axes>"
      ]
     },
     "metadata": {
      "needs_background": "light"
     },
     "output_type": "display_data"
    }
   ],
   "source": [
    "plt.figure(figsize=(10, 4))\n",
    "sns.distplot(data['platelets'], hist=True, label='platelets', color='Green')\n",
    "sns.distplot(data[data['DEATH_EVENT']==0]['platelets'], hist=False, label='survived', color='orange')\n",
    "sns.distplot(data[data['DEATH_EVENT']==1]['platelets'], hist=False, label='deceased', color='blue')\n",
    "plt.grid()\n",
    "plt.legend()\n",
    "plt.show()"
   ]
  },
  {
   "cell_type": "code",
   "execution_count": 38,
   "metadata": {},
   "outputs": [
    {
     "data": {
      "image/png": "[encoded data removed]",
      "text/plain": [
       "<Figure size 1080x288 with 3 Axes>"
      ]
     },
     "metadata": {
      "needs_background": "light"
     },
     "output_type": "display_data"
    }
   ],
   "source": [
    "#plotting the box plot\n",
    "plt.figure(figsize=(15, 4))\n",
    "\n",
    "ax1=plt.subplot(131)\n",
    "sns.boxplot(y=data['platelets'], ax=ax1)\n",
    "ax1.set_title('Ejection Fraction in all patients')\n",
    "ax1.grid()\n",
    "\n",
    "ax2=plt.subplot(132)\n",
    "sns.boxplot(y=data[data['DEATH_EVENT']==0]['platelets'], ax=ax2)\n",
    "ax2.set_title('Ejection Fraction in survived patients')\n",
    "ax2.grid()\n",
    "\n",
    "ax3=plt.subplot(133)\n",
    "sns.boxplot(y=data[data['DEATH_EVENT']==1]['platelets'], ax=ax3)\n",
    "ax3.set_title('Ejection Fraction in deceased patients')\n",
    "ax3.grid()\n",
    "\n",
    "\n",
    "plt.tight_layout()\n",
    "plt.show()"
   ]
  },
  {
   "cell_type": "code",
   "execution_count": 39,
   "metadata": {},
   "outputs": [
    {
     "data": {
      "image/png": "[encoded data removed]",
      "text/plain": [
       "<Figure size 1080x288 with 3 Axes>"
      ]
     },
     "metadata": {
      "needs_background": "light"
     },
     "output_type": "display_data"
    }
   ],
   "source": [
    "#plotting the box plot\n",
    "plt.figure(figsize=(15, 4))\n",
    "\n",
    "ax1=plt.subplot(131)\n",
    "sns.boxplot(y=[x for x in data['platelets'].values if x < 450000], ax=ax1)\n",
    "ax1.set_title('Cretinine Phosphokinase in all patients')\n",
    "ax1.grid()\n",
    "\n",
    "ax2=plt.subplot(132)\n",
    "sns.boxplot(y=[x for x in data[data['DEATH_EVENT']==0]['platelets'].values if x < 450000], ax=ax2)\n",
    "ax2.set_title('Cretinine Phosphokinase in survived patients')\n",
    "ax2.grid()\n",
    "\n",
    "ax3=plt.subplot(133)\n",
    "sns.boxplot(y=[x for x in data[data['DEATH_EVENT']==1]['platelets'].values if x < 450000], ax=ax3)\n",
    "ax3.set_title('Cretinine Phosphokinase in deceased patients')\n",
    "ax3.grid()\n",
    "\n",
    "plt.tight_layout()\n",
    "plt.show()"
   ]
  },
  {
   "cell_type": "code",
   "execution_count": 40,
   "metadata": {},
   "outputs": [
    {
     "data": {
      "text/html": [
       "<div>\n",
       "<style scoped>\n",
       "    .dataframe tbody tr th:only-of-type {\n",
       "        vertical-align: middle;\n",
       "    }\n",
       "\n",
       "    .dataframe tbody tr th {\n",
       "        vertical-align: top;\n",
       "    }\n",
       "\n",
       "    .dataframe thead th {\n",
       "        text-align: right;\n",
       "    }\n",
       "</style>\n",
       "<table border=\"1\" class=\"dataframe\">\n",
       "  <thead>\n",
       "    <tr style=\"text-align: right;\">\n",
       "      <th></th>\n",
       "      <th>age</th>\n",
       "      <th>anaemia</th>\n",
       "      <th>creatinine_phosphokinase</th>\n",
       "      <th>diabetes</th>\n",
       "      <th>ejection_fraction</th>\n",
       "      <th>high_blood_pressure</th>\n",
       "      <th>platelets</th>\n",
       "      <th>serum_creatinine</th>\n",
       "      <th>serum_sodium</th>\n",
       "      <th>sex</th>\n",
       "      <th>smoking</th>\n",
       "      <th>time</th>\n",
       "      <th>DEATH_EVENT</th>\n",
       "      <th>age_bin</th>\n",
       "      <th>creatinine_phosphokinase_bin</th>\n",
       "      <th>ejection_fraction_bin</th>\n",
       "      <th>platelates_bin</th>\n",
       "    </tr>\n",
       "  </thead>\n",
       "  <tbody>\n",
       "    <tr>\n",
       "      <th>0</th>\n",
       "      <td>75.0</td>\n",
       "      <td>0</td>\n",
       "      <td>582</td>\n",
       "      <td>0</td>\n",
       "      <td>20</td>\n",
       "      <td>1</td>\n",
       "      <td>265000.00</td>\n",
       "      <td>1.9</td>\n",
       "      <td>130</td>\n",
       "      <td>1</td>\n",
       "      <td>0</td>\n",
       "      <td>4</td>\n",
       "      <td>1</td>\n",
       "      <td>4</td>\n",
       "      <td>3</td>\n",
       "      <td>0</td>\n",
       "      <td>3</td>\n",
       "    </tr>\n",
       "    <tr>\n",
       "      <th>1</th>\n",
       "      <td>55.0</td>\n",
       "      <td>0</td>\n",
       "      <td>7861</td>\n",
       "      <td>0</td>\n",
       "      <td>38</td>\n",
       "      <td>0</td>\n",
       "      <td>263358.03</td>\n",
       "      <td>1.1</td>\n",
       "      <td>136</td>\n",
       "      <td>1</td>\n",
       "      <td>0</td>\n",
       "      <td>6</td>\n",
       "      <td>1</td>\n",
       "      <td>2</td>\n",
       "      <td>7</td>\n",
       "      <td>1</td>\n",
       "      <td>3</td>\n",
       "    </tr>\n",
       "    <tr>\n",
       "      <th>2</th>\n",
       "      <td>65.0</td>\n",
       "      <td>0</td>\n",
       "      <td>146</td>\n",
       "      <td>0</td>\n",
       "      <td>20</td>\n",
       "      <td>0</td>\n",
       "      <td>162000.00</td>\n",
       "      <td>1.3</td>\n",
       "      <td>129</td>\n",
       "      <td>1</td>\n",
       "      <td>1</td>\n",
       "      <td>7</td>\n",
       "      <td>1</td>\n",
       "      <td>3</td>\n",
       "      <td>1</td>\n",
       "      <td>0</td>\n",
       "      <td>1</td>\n",
       "    </tr>\n",
       "    <tr>\n",
       "      <th>3</th>\n",
       "      <td>50.0</td>\n",
       "      <td>1</td>\n",
       "      <td>111</td>\n",
       "      <td>0</td>\n",
       "      <td>20</td>\n",
       "      <td>0</td>\n",
       "      <td>210000.00</td>\n",
       "      <td>1.9</td>\n",
       "      <td>137</td>\n",
       "      <td>1</td>\n",
       "      <td>0</td>\n",
       "      <td>7</td>\n",
       "      <td>1</td>\n",
       "      <td>2</td>\n",
       "      <td>1</td>\n",
       "      <td>0</td>\n",
       "      <td>2</td>\n",
       "    </tr>\n",
       "    <tr>\n",
       "      <th>4</th>\n",
       "      <td>65.0</td>\n",
       "      <td>1</td>\n",
       "      <td>160</td>\n",
       "      <td>1</td>\n",
       "      <td>20</td>\n",
       "      <td>0</td>\n",
       "      <td>327000.00</td>\n",
       "      <td>2.7</td>\n",
       "      <td>116</td>\n",
       "      <td>0</td>\n",
       "      <td>0</td>\n",
       "      <td>8</td>\n",
       "      <td>1</td>\n",
       "      <td>3</td>\n",
       "      <td>1</td>\n",
       "      <td>0</td>\n",
       "      <td>4</td>\n",
       "    </tr>\n",
       "  </tbody>\n",
       "</table>\n",
       "</div>"
      ],
      "text/plain": [
       "    age  anaemia  creatinine_phosphokinase  diabetes  ejection_fraction  \\\n",
       "0  75.0        0                       582         0                 20   \n",
       "1  55.0        0                      7861         0                 38   \n",
       "2  65.0        0                       146         0                 20   \n",
       "3  50.0        1                       111         0                 20   \n",
       "4  65.0        1                       160         1                 20   \n",
       "\n",
       "   high_blood_pressure  platelets  serum_creatinine  serum_sodium  sex  \\\n",
       "0                    1  265000.00               1.9           130    1   \n",
       "1                    0  263358.03               1.1           136    1   \n",
       "2                    0  162000.00               1.3           129    1   \n",
       "3                    0  210000.00               1.9           137    1   \n",
       "4                    0  327000.00               2.7           116    0   \n",
       "\n",
       "   smoking  time  DEATH_EVENT  age_bin  creatinine_phosphokinase_bin  \\\n",
       "0        0     4            1        4                             3   \n",
       "1        0     6            1        2                             7   \n",
       "2        1     7            1        3                             1   \n",
       "3        0     7            1        2                             1   \n",
       "4        0     8            1        3                             1   \n",
       "\n",
       "   ejection_fraction_bin  platelates_bin  \n",
       "0                      0               3  \n",
       "1                      1               3  \n",
       "2                      0               1  \n",
       "3                      0               2  \n",
       "4                      0               4  "
      ]
     },
     "execution_count": 40,
     "metadata": {},
     "output_type": "execute_result"
    }
   ],
   "source": [
    "def bin_platelates(x):\n",
    "    \"\"\"\n",
    "    for binning platelate counts\n",
    "    \"\"\"\n",
    "    if x<=100000:\n",
    "        return 0\n",
    "    elif (x>100000) and (x<=200000):\n",
    "        return 1\n",
    "    elif (x>200000) and (x<=250000):\n",
    "        return 2\n",
    "    elif (x>250000) and (x<=300000):\n",
    "        return 3\n",
    "    elif (x>300000) and (x<=400000):\n",
    "        return 4\n",
    "    else:\n",
    "        return 5\n",
    "\n",
    "data['platelates_bin'] = data['platelets'].map(bin_platelates)\n",
    "data.head()"
   ]
  },
  {
   "cell_type": "code",
   "execution_count": 41,
   "metadata": {},
   "outputs": [
    {
     "data": {
      "text/html": [
       "<div>\n",
       "<style scoped>\n",
       "    .dataframe tbody tr th:only-of-type {\n",
       "        vertical-align: middle;\n",
       "    }\n",
       "\n",
       "    .dataframe tbody tr th {\n",
       "        vertical-align: top;\n",
       "    }\n",
       "\n",
       "    .dataframe thead th {\n",
       "        text-align: right;\n",
       "    }\n",
       "</style>\n",
       "<table border=\"1\" class=\"dataframe\">\n",
       "  <thead>\n",
       "    <tr style=\"text-align: right;\">\n",
       "      <th></th>\n",
       "      <th>platelates_bin</th>\n",
       "      <th>DEATH_EVENT</th>\n",
       "      <th>Total</th>\n",
       "      <th>Avg</th>\n",
       "    </tr>\n",
       "  </thead>\n",
       "  <tbody>\n",
       "    <tr>\n",
       "      <th>0</th>\n",
       "      <td>0</td>\n",
       "      <td>5</td>\n",
       "      <td>8</td>\n",
       "      <td>0.625000</td>\n",
       "    </tr>\n",
       "    <tr>\n",
       "      <th>1</th>\n",
       "      <td>1</td>\n",
       "      <td>21</td>\n",
       "      <td>55</td>\n",
       "      <td>0.381818</td>\n",
       "    </tr>\n",
       "    <tr>\n",
       "      <th>2</th>\n",
       "      <td>2</td>\n",
       "      <td>19</td>\n",
       "      <td>72</td>\n",
       "      <td>0.263889</td>\n",
       "    </tr>\n",
       "    <tr>\n",
       "      <th>3</th>\n",
       "      <td>3</td>\n",
       "      <td>24</td>\n",
       "      <td>84</td>\n",
       "      <td>0.285714</td>\n",
       "    </tr>\n",
       "    <tr>\n",
       "      <th>4</th>\n",
       "      <td>4</td>\n",
       "      <td>21</td>\n",
       "      <td>60</td>\n",
       "      <td>0.350000</td>\n",
       "    </tr>\n",
       "  </tbody>\n",
       "</table>\n",
       "</div>"
      ],
      "text/plain": [
       "   platelates_bin  DEATH_EVENT  Total       Avg\n",
       "0               0            5      8  0.625000\n",
       "1               1           21     55  0.381818\n",
       "2               2           19     72  0.263889\n",
       "3               3           24     84  0.285714\n",
       "4               4           21     60  0.350000"
      ]
     },
     "execution_count": 41,
     "metadata": {},
     "output_type": "execute_result"
    }
   ],
   "source": [
    "platelate_analysis          = pd.DataFrame(data.groupby(by=['platelates_bin'])['DEATH_EVENT']\\\n",
    "                                    .agg(lambda x:x.eq(1).sum())).reset_index()\n",
    "platelate_analysis['Total'] = pd.DataFrame(data.groupby(by=['platelates_bin'])['DEATH_EVENT']\\\n",
    "                                    .agg(total='count')).reset_index()['total']\n",
    "platelate_analysis['Avg']   = pd.DataFrame(data.groupby(by=['platelates_bin'])['DEATH_EVENT']\\\n",
    "                                    .agg(avg='mean')).reset_index()['avg']\n",
    "\n",
    "platelate_analysis.head()"
   ]
  },
  {
   "cell_type": "code",
   "execution_count": 42,
   "metadata": {},
   "outputs": [
    {
     "data": {
      "image/png": "[encoded data removed]",
      "text/plain": [
       "<Figure size 720x360 with 1 Axes>"
      ]
     },
     "metadata": {
      "needs_background": "light"
     },
     "output_type": "display_data"
    }
   ],
   "source": [
    "plt.figure(figsize=(10, 5))\n",
    "b1 = plt.bar(np.arange(len(platelate_analysis.platelates_bin)), platelate_analysis['Total'], label='Total')\n",
    "b2 = plt.bar(np.arange(len(platelate_analysis.platelates_bin)), platelate_analysis['DEATH_EVENT'], label='Deceases')\n",
    "\n",
    "for indx, i in enumerate(b2.patches):\n",
    "    plt.text(i.get_x()+.20, i.get_height()+1, str(round(platelate_analysis.Avg[indx]*100, 2))+'%', fontsize=12, color='black')\n",
    "    \n",
    "plt.legend()\n",
    "plt.xticks(np.arange(len(platelate_analysis.platelates_bin.values)), platelate_analysis.platelates_bin.values)\n",
    "plt.grid()\n",
    "plt.show()"
   ]
  },
  {
   "cell_type": "markdown",
   "metadata": {},
   "source": [
    "#### [2.5] Serum Creatinine Analysis"
   ]
  },
  {
   "cell_type": "code",
   "execution_count": 43,
   "metadata": {},
   "outputs": [
    {
     "data": {
      "text/plain": [
       "1.0    50\n",
       "0.9    32\n",
       "1.1    32\n",
       "1.2    24\n",
       "0.8    24\n",
       "Name: serum_creatinine, dtype: int64"
      ]
     },
     "execution_count": 43,
     "metadata": {},
     "output_type": "execute_result"
    }
   ],
   "source": [
    "data['serum_creatinine'].value_counts().head()"
   ]
  },
  {
   "cell_type": "code",
   "execution_count": 44,
   "metadata": {},
   "outputs": [
    {
     "data": {
      "image/png": "[encoded data removed]",
      "text/plain": [
       "<Figure size 720x288 with 1 Axes>"
      ]
     },
     "metadata": {
      "needs_background": "light"
     },
     "output_type": "display_data"
    }
   ],
   "source": [
    "plt.figure(figsize=(10, 4))\n",
    "sns.distplot(data['serum_creatinine'], hist=True, label='serum_creatinine', color='Green')\n",
    "sns.distplot(data[data['DEATH_EVENT']==0]['serum_creatinine'], hist=False, label='survived', color='orange')\n",
    "sns.distplot(data[data['DEATH_EVENT']==1]['serum_creatinine'], hist=False, label='deceased', color='blue')\n",
    "plt.grid()\n",
    "plt.legend()\n",
    "plt.show()"
   ]
  },
  {
   "cell_type": "code",
   "execution_count": 45,
   "metadata": {},
   "outputs": [
    {
     "data": {
      "image/png": "[encoded data removed]",
      "text/plain": [
       "<Figure size 1080x288 with 3 Axes>"
      ]
     },
     "metadata": {
      "needs_background": "light"
     },
     "output_type": "display_data"
    }
   ],
   "source": [
    "#plotting the box plot\n",
    "plt.figure(figsize=(15, 4))\n",
    "\n",
    "ax1=plt.subplot(131)\n",
    "sns.boxplot(y=data['serum_creatinine'], ax=ax1)\n",
    "ax1.set_title('Serum Creatinine in all patients')\n",
    "ax1.grid()\n",
    "\n",
    "ax2=plt.subplot(132)\n",
    "sns.boxplot(y=data[data['DEATH_EVENT']==0]['serum_creatinine'], ax=ax2)\n",
    "ax2.set_title('Serum Creatinine in survived patients')\n",
    "ax2.grid()\n",
    "\n",
    "ax3=plt.subplot(133)\n",
    "sns.boxplot(y=data[data['DEATH_EVENT']==1]['serum_creatinine'], ax=ax3)\n",
    "ax3.set_title('Serum Creatinine in deceased patients')\n",
    "ax3.grid()\n",
    "\n",
    "\n",
    "plt.tight_layout()\n",
    "plt.show()"
   ]
  },
  {
   "cell_type": "code",
   "execution_count": 46,
   "metadata": {},
   "outputs": [
    {
     "data": {
      "image/png": "[encoded data removed]",
      "text/plain": [
       "<Figure size 1080x288 with 3 Axes>"
      ]
     },
     "metadata": {
      "needs_background": "light"
     },
     "output_type": "display_data"
    }
   ],
   "source": [
    "#plotting the box plot\n",
    "plt.figure(figsize=(15, 4))\n",
    "\n",
    "ax1=plt.subplot(131)\n",
    "sns.boxplot(y=[x for x in data['serum_creatinine'].values if x < 2], ax=ax1)\n",
    "ax1.set_title('Cretinine Phosphokinase in all patients')\n",
    "ax1.grid()\n",
    "\n",
    "ax2=plt.subplot(132)\n",
    "sns.boxplot(y=[x for x in data[data['DEATH_EVENT']==0]['serum_creatinine'].values if x < 2], ax=ax2)\n",
    "ax2.set_title('Cretinine Phosphokinase in survived patients')\n",
    "ax2.grid()\n",
    "\n",
    "ax3=plt.subplot(133)\n",
    "sns.boxplot(y=[x for x in data[data['DEATH_EVENT']==1]['serum_creatinine'].values if x < 2], ax=ax3)\n",
    "ax3.set_title('Cretinine Phosphokinase in deceased patients')\n",
    "ax3.grid()\n",
    "\n",
    "plt.tight_layout()\n",
    "plt.show()"
   ]
  },
  {
   "cell_type": "code",
   "execution_count": 47,
   "metadata": {},
   "outputs": [
    {
     "data": {
      "text/html": [
       "<div>\n",
       "<style scoped>\n",
       "    .dataframe tbody tr th:only-of-type {\n",
       "        vertical-align: middle;\n",
       "    }\n",
       "\n",
       "    .dataframe tbody tr th {\n",
       "        vertical-align: top;\n",
       "    }\n",
       "\n",
       "    .dataframe thead th {\n",
       "        text-align: right;\n",
       "    }\n",
       "</style>\n",
       "<table border=\"1\" class=\"dataframe\">\n",
       "  <thead>\n",
       "    <tr style=\"text-align: right;\">\n",
       "      <th></th>\n",
       "      <th>age</th>\n",
       "      <th>anaemia</th>\n",
       "      <th>creatinine_phosphokinase</th>\n",
       "      <th>diabetes</th>\n",
       "      <th>ejection_fraction</th>\n",
       "      <th>high_blood_pressure</th>\n",
       "      <th>platelets</th>\n",
       "      <th>serum_creatinine</th>\n",
       "      <th>serum_sodium</th>\n",
       "      <th>sex</th>\n",
       "      <th>smoking</th>\n",
       "      <th>time</th>\n",
       "      <th>DEATH_EVENT</th>\n",
       "      <th>age_bin</th>\n",
       "      <th>creatinine_phosphokinase_bin</th>\n",
       "      <th>ejection_fraction_bin</th>\n",
       "      <th>platelates_bin</th>\n",
       "      <th>serum_creatinine_bin</th>\n",
       "    </tr>\n",
       "  </thead>\n",
       "  <tbody>\n",
       "    <tr>\n",
       "      <th>0</th>\n",
       "      <td>75.0</td>\n",
       "      <td>0</td>\n",
       "      <td>582</td>\n",
       "      <td>0</td>\n",
       "      <td>20</td>\n",
       "      <td>1</td>\n",
       "      <td>265000.00</td>\n",
       "      <td>1.9</td>\n",
       "      <td>130</td>\n",
       "      <td>1</td>\n",
       "      <td>0</td>\n",
       "      <td>4</td>\n",
       "      <td>1</td>\n",
       "      <td>4</td>\n",
       "      <td>3</td>\n",
       "      <td>0</td>\n",
       "      <td>3</td>\n",
       "      <td>5</td>\n",
       "    </tr>\n",
       "    <tr>\n",
       "      <th>1</th>\n",
       "      <td>55.0</td>\n",
       "      <td>0</td>\n",
       "      <td>7861</td>\n",
       "      <td>0</td>\n",
       "      <td>38</td>\n",
       "      <td>0</td>\n",
       "      <td>263358.03</td>\n",
       "      <td>1.1</td>\n",
       "      <td>136</td>\n",
       "      <td>1</td>\n",
       "      <td>0</td>\n",
       "      <td>6</td>\n",
       "      <td>1</td>\n",
       "      <td>2</td>\n",
       "      <td>7</td>\n",
       "      <td>1</td>\n",
       "      <td>3</td>\n",
       "      <td>2</td>\n",
       "    </tr>\n",
       "    <tr>\n",
       "      <th>2</th>\n",
       "      <td>65.0</td>\n",
       "      <td>0</td>\n",
       "      <td>146</td>\n",
       "      <td>0</td>\n",
       "      <td>20</td>\n",
       "      <td>0</td>\n",
       "      <td>162000.00</td>\n",
       "      <td>1.3</td>\n",
       "      <td>129</td>\n",
       "      <td>1</td>\n",
       "      <td>1</td>\n",
       "      <td>7</td>\n",
       "      <td>1</td>\n",
       "      <td>3</td>\n",
       "      <td>1</td>\n",
       "      <td>0</td>\n",
       "      <td>1</td>\n",
       "      <td>3</td>\n",
       "    </tr>\n",
       "    <tr>\n",
       "      <th>3</th>\n",
       "      <td>50.0</td>\n",
       "      <td>1</td>\n",
       "      <td>111</td>\n",
       "      <td>0</td>\n",
       "      <td>20</td>\n",
       "      <td>0</td>\n",
       "      <td>210000.00</td>\n",
       "      <td>1.9</td>\n",
       "      <td>137</td>\n",
       "      <td>1</td>\n",
       "      <td>0</td>\n",
       "      <td>7</td>\n",
       "      <td>1</td>\n",
       "      <td>2</td>\n",
       "      <td>1</td>\n",
       "      <td>0</td>\n",
       "      <td>2</td>\n",
       "      <td>5</td>\n",
       "    </tr>\n",
       "    <tr>\n",
       "      <th>4</th>\n",
       "      <td>65.0</td>\n",
       "      <td>1</td>\n",
       "      <td>160</td>\n",
       "      <td>1</td>\n",
       "      <td>20</td>\n",
       "      <td>0</td>\n",
       "      <td>327000.00</td>\n",
       "      <td>2.7</td>\n",
       "      <td>116</td>\n",
       "      <td>0</td>\n",
       "      <td>0</td>\n",
       "      <td>8</td>\n",
       "      <td>1</td>\n",
       "      <td>3</td>\n",
       "      <td>1</td>\n",
       "      <td>0</td>\n",
       "      <td>4</td>\n",
       "      <td>6</td>\n",
       "    </tr>\n",
       "  </tbody>\n",
       "</table>\n",
       "</div>"
      ],
      "text/plain": [
       "    age  anaemia  creatinine_phosphokinase  diabetes  ejection_fraction  \\\n",
       "0  75.0        0                       582         0                 20   \n",
       "1  55.0        0                      7861         0                 38   \n",
       "2  65.0        0                       146         0                 20   \n",
       "3  50.0        1                       111         0                 20   \n",
       "4  65.0        1                       160         1                 20   \n",
       "\n",
       "   high_blood_pressure  platelets  serum_creatinine  serum_sodium  sex  \\\n",
       "0                    1  265000.00               1.9           130    1   \n",
       "1                    0  263358.03               1.1           136    1   \n",
       "2                    0  162000.00               1.3           129    1   \n",
       "3                    0  210000.00               1.9           137    1   \n",
       "4                    0  327000.00               2.7           116    0   \n",
       "\n",
       "   smoking  time  DEATH_EVENT  age_bin  creatinine_phosphokinase_bin  \\\n",
       "0        0     4            1        4                             3   \n",
       "1        0     6            1        2                             7   \n",
       "2        1     7            1        3                             1   \n",
       "3        0     7            1        2                             1   \n",
       "4        0     8            1        3                             1   \n",
       "\n",
       "   ejection_fraction_bin  platelates_bin  serum_creatinine_bin  \n",
       "0                      0               3                     5  \n",
       "1                      1               3                     2  \n",
       "2                      0               1                     3  \n",
       "3                      0               2                     5  \n",
       "4                      0               4                     6  "
      ]
     },
     "execution_count": 47,
     "metadata": {},
     "output_type": "execute_result"
    }
   ],
   "source": [
    "def bin_serum_creatinine(x):\n",
    "    \"\"\"\n",
    "    for binning serum creatinine\n",
    "    \"\"\"\n",
    "    if x<0.8:\n",
    "        return 0\n",
    "    elif (x>=0.8) and (x<1):\n",
    "        return 1\n",
    "    elif (x>=1) and (x<1.2):\n",
    "        return 2\n",
    "    elif (x>=1.2) and (x<1.4):\n",
    "        return 3\n",
    "    elif (x>=1.4) and (x<1.6):\n",
    "        return 4\n",
    "    elif (x>=1.6) and (x<2):\n",
    "        return 5\n",
    "    elif (x>=2) and (x<3):\n",
    "        return 6\n",
    "    elif (x>=3) and (x<5):\n",
    "        return 7\n",
    "    else:\n",
    "        return 8\n",
    "data['serum_creatinine_bin'] = data['serum_creatinine'].map(bin_serum_creatinine)\n",
    "data.head()"
   ]
  },
  {
   "cell_type": "code",
   "execution_count": 48,
   "metadata": {},
   "outputs": [
    {
     "data": {
      "text/html": [
       "<div>\n",
       "<style scoped>\n",
       "    .dataframe tbody tr th:only-of-type {\n",
       "        vertical-align: middle;\n",
       "    }\n",
       "\n",
       "    .dataframe tbody tr th {\n",
       "        vertical-align: top;\n",
       "    }\n",
       "\n",
       "    .dataframe thead th {\n",
       "        text-align: right;\n",
       "    }\n",
       "</style>\n",
       "<table border=\"1\" class=\"dataframe\">\n",
       "  <thead>\n",
       "    <tr style=\"text-align: right;\">\n",
       "      <th></th>\n",
       "      <th>serum_creatinine_bin</th>\n",
       "      <th>DEATH_EVENT</th>\n",
       "      <th>Total</th>\n",
       "      <th>Avg</th>\n",
       "    </tr>\n",
       "  </thead>\n",
       "  <tbody>\n",
       "    <tr>\n",
       "      <th>0</th>\n",
       "      <td>0</td>\n",
       "      <td>3</td>\n",
       "      <td>25</td>\n",
       "      <td>0.120000</td>\n",
       "    </tr>\n",
       "    <tr>\n",
       "      <th>1</th>\n",
       "      <td>1</td>\n",
       "      <td>6</td>\n",
       "      <td>56</td>\n",
       "      <td>0.107143</td>\n",
       "    </tr>\n",
       "    <tr>\n",
       "      <th>2</th>\n",
       "      <td>2</td>\n",
       "      <td>24</td>\n",
       "      <td>93</td>\n",
       "      <td>0.258065</td>\n",
       "    </tr>\n",
       "    <tr>\n",
       "      <th>3</th>\n",
       "      <td>3</td>\n",
       "      <td>16</td>\n",
       "      <td>44</td>\n",
       "      <td>0.363636</td>\n",
       "    </tr>\n",
       "    <tr>\n",
       "      <th>4</th>\n",
       "      <td>4</td>\n",
       "      <td>4</td>\n",
       "      <td>14</td>\n",
       "      <td>0.285714</td>\n",
       "    </tr>\n",
       "  </tbody>\n",
       "</table>\n",
       "</div>"
      ],
      "text/plain": [
       "   serum_creatinine_bin  DEATH_EVENT  Total       Avg\n",
       "0                     0            3     25  0.120000\n",
       "1                     1            6     56  0.107143\n",
       "2                     2           24     93  0.258065\n",
       "3                     3           16     44  0.363636\n",
       "4                     4            4     14  0.285714"
      ]
     },
     "execution_count": 48,
     "metadata": {},
     "output_type": "execute_result"
    }
   ],
   "source": [
    "sc_analysis          = pd.DataFrame(data.groupby(by=['serum_creatinine_bin'])['DEATH_EVENT']\\\n",
    "                                    .agg(lambda x:x.eq(1).sum())).reset_index()\n",
    "sc_analysis['Total'] = pd.DataFrame(data.groupby(by=['serum_creatinine_bin'])['DEATH_EVENT']\\\n",
    "                                    .agg(total='count')).reset_index()['total']\n",
    "sc_analysis['Avg']   = pd.DataFrame(data.groupby(by=['serum_creatinine_bin'])['DEATH_EVENT']\\\n",
    "                                    .agg(avg='mean')).reset_index()['avg']\n",
    "\n",
    "sc_analysis.head()"
   ]
  },
  {
   "cell_type": "code",
   "execution_count": 49,
   "metadata": {},
   "outputs": [
    {
     "data": {
      "image/png": "[encoded data removed]",
      "text/plain": [
       "<Figure size 720x360 with 1 Axes>"
      ]
     },
     "metadata": {
      "needs_background": "light"
     },
     "output_type": "display_data"
    }
   ],
   "source": [
    "plt.figure(figsize=(10, 5))\n",
    "b1 = plt.bar(np.arange(len(sc_analysis.serum_creatinine_bin)), sc_analysis['Total'], label='Total')\n",
    "b2 = plt.bar(np.arange(len(sc_analysis.serum_creatinine_bin)), sc_analysis['DEATH_EVENT'], label='Deceases')\n",
    "\n",
    "for indx, i in enumerate(b2.patches):\n",
    "    plt.text(i.get_x()+.02, i.get_height()+1, str(round(sc_analysis.Avg[indx]*100, 2))+'%', fontsize=12, color='black')\n",
    "    \n",
    "plt.legend()\n",
    "plt.grid()\n",
    "plt.show()"
   ]
  },
  {
   "cell_type": "markdown",
   "metadata": {},
   "source": [
    "#### [2.5] Serium Sodium"
   ]
  },
  {
   "cell_type": "code",
   "execution_count": 50,
   "metadata": {},
   "outputs": [
    {
     "data": {
      "text/plain": [
       "136    40\n",
       "137    38\n",
       "140    35\n",
       "134    32\n",
       "138    23\n",
       "Name: serum_sodium, dtype: int64"
      ]
     },
     "execution_count": 50,
     "metadata": {},
     "output_type": "execute_result"
    }
   ],
   "source": [
    "data['serum_sodium'].value_counts().head()"
   ]
  },
  {
   "cell_type": "code",
   "execution_count": 51,
   "metadata": {},
   "outputs": [
    {
     "data": {
      "image/png": "[encoded data removed]",
      "text/plain": [
       "<Figure size 720x288 with 1 Axes>"
      ]
     },
     "metadata": {
      "needs_background": "light"
     },
     "output_type": "display_data"
    }
   ],
   "source": [
    "plt.figure(figsize=(10, 4))\n",
    "sns.distplot(data['serum_sodium'], hist=True, label='serum_sodium', color='Green')\n",
    "sns.distplot(data[data['DEATH_EVENT']==0]['serum_sodium'], hist=False, label='survived', color='orange')\n",
    "sns.distplot(data[data['DEATH_EVENT']==1]['serum_sodium'], hist=False, label='deceased', color='blue')\n",
    "plt.grid()\n",
    "plt.legend()\n",
    "plt.show()"
   ]
  },
  {
   "cell_type": "code",
   "execution_count": 52,
   "metadata": {},
   "outputs": [
    {
     "data": {
      "image/png": "[encoded data removed]",
      "text/plain": [
       "<Figure size 1080x288 with 3 Axes>"
      ]
     },
     "metadata": {
      "needs_background": "light"
     },
     "output_type": "display_data"
    }
   ],
   "source": [
    "#plotting the box plot\n",
    "plt.figure(figsize=(15, 4))\n",
    "\n",
    "ax1=plt.subplot(131)\n",
    "sns.boxplot(y=data['serum_sodium'], ax=ax1)\n",
    "ax1.set_title('Serum Creatinine in all patients')\n",
    "ax1.grid()\n",
    "\n",
    "ax2=plt.subplot(132, sharey=ax1)\n",
    "sns.boxplot(y=data[data['DEATH_EVENT']==0]['serum_sodium'], ax=ax2)\n",
    "ax2.set_title('Serum Creatinine in survived patients')\n",
    "ax2.grid()\n",
    "\n",
    "ax3=plt.subplot(133, sharey=ax2)\n",
    "sns.boxplot(y=data[data['DEATH_EVENT']==1]['serum_sodium'], ax=ax3)\n",
    "ax3.set_title('Serum Creatinine in deceased patients')\n",
    "ax3.grid()\n",
    "\n",
    "\n",
    "plt.tight_layout()\n",
    "plt.show()"
   ]
  },
  {
   "cell_type": "code",
   "execution_count": 53,
   "metadata": {},
   "outputs": [
    {
     "data": {
      "text/html": [
       "<div>\n",
       "<style scoped>\n",
       "    .dataframe tbody tr th:only-of-type {\n",
       "        vertical-align: middle;\n",
       "    }\n",
       "\n",
       "    .dataframe tbody tr th {\n",
       "        vertical-align: top;\n",
       "    }\n",
       "\n",
       "    .dataframe thead th {\n",
       "        text-align: right;\n",
       "    }\n",
       "</style>\n",
       "<table border=\"1\" class=\"dataframe\">\n",
       "  <thead>\n",
       "    <tr style=\"text-align: right;\">\n",
       "      <th></th>\n",
       "      <th>age</th>\n",
       "      <th>anaemia</th>\n",
       "      <th>creatinine_phosphokinase</th>\n",
       "      <th>diabetes</th>\n",
       "      <th>ejection_fraction</th>\n",
       "      <th>high_blood_pressure</th>\n",
       "      <th>platelets</th>\n",
       "      <th>serum_creatinine</th>\n",
       "      <th>serum_sodium</th>\n",
       "      <th>sex</th>\n",
       "      <th>smoking</th>\n",
       "      <th>time</th>\n",
       "      <th>DEATH_EVENT</th>\n",
       "      <th>age_bin</th>\n",
       "      <th>creatinine_phosphokinase_bin</th>\n",
       "      <th>ejection_fraction_bin</th>\n",
       "      <th>platelates_bin</th>\n",
       "      <th>serum_creatinine_bin</th>\n",
       "      <th>serum_sodium_bin</th>\n",
       "    </tr>\n",
       "  </thead>\n",
       "  <tbody>\n",
       "    <tr>\n",
       "      <th>0</th>\n",
       "      <td>75.0</td>\n",
       "      <td>0</td>\n",
       "      <td>582</td>\n",
       "      <td>0</td>\n",
       "      <td>20</td>\n",
       "      <td>1</td>\n",
       "      <td>265000.00</td>\n",
       "      <td>1.9</td>\n",
       "      <td>130</td>\n",
       "      <td>1</td>\n",
       "      <td>0</td>\n",
       "      <td>4</td>\n",
       "      <td>1</td>\n",
       "      <td>4</td>\n",
       "      <td>3</td>\n",
       "      <td>0</td>\n",
       "      <td>3</td>\n",
       "      <td>5</td>\n",
       "      <td>2</td>\n",
       "    </tr>\n",
       "    <tr>\n",
       "      <th>1</th>\n",
       "      <td>55.0</td>\n",
       "      <td>0</td>\n",
       "      <td>7861</td>\n",
       "      <td>0</td>\n",
       "      <td>38</td>\n",
       "      <td>0</td>\n",
       "      <td>263358.03</td>\n",
       "      <td>1.1</td>\n",
       "      <td>136</td>\n",
       "      <td>1</td>\n",
       "      <td>0</td>\n",
       "      <td>6</td>\n",
       "      <td>1</td>\n",
       "      <td>2</td>\n",
       "      <td>7</td>\n",
       "      <td>1</td>\n",
       "      <td>3</td>\n",
       "      <td>2</td>\n",
       "      <td>3</td>\n",
       "    </tr>\n",
       "    <tr>\n",
       "      <th>2</th>\n",
       "      <td>65.0</td>\n",
       "      <td>0</td>\n",
       "      <td>146</td>\n",
       "      <td>0</td>\n",
       "      <td>20</td>\n",
       "      <td>0</td>\n",
       "      <td>162000.00</td>\n",
       "      <td>1.3</td>\n",
       "      <td>129</td>\n",
       "      <td>1</td>\n",
       "      <td>1</td>\n",
       "      <td>7</td>\n",
       "      <td>1</td>\n",
       "      <td>3</td>\n",
       "      <td>1</td>\n",
       "      <td>0</td>\n",
       "      <td>1</td>\n",
       "      <td>3</td>\n",
       "      <td>1</td>\n",
       "    </tr>\n",
       "    <tr>\n",
       "      <th>3</th>\n",
       "      <td>50.0</td>\n",
       "      <td>1</td>\n",
       "      <td>111</td>\n",
       "      <td>0</td>\n",
       "      <td>20</td>\n",
       "      <td>0</td>\n",
       "      <td>210000.00</td>\n",
       "      <td>1.9</td>\n",
       "      <td>137</td>\n",
       "      <td>1</td>\n",
       "      <td>0</td>\n",
       "      <td>7</td>\n",
       "      <td>1</td>\n",
       "      <td>2</td>\n",
       "      <td>1</td>\n",
       "      <td>0</td>\n",
       "      <td>2</td>\n",
       "      <td>5</td>\n",
       "      <td>3</td>\n",
       "    </tr>\n",
       "    <tr>\n",
       "      <th>4</th>\n",
       "      <td>65.0</td>\n",
       "      <td>1</td>\n",
       "      <td>160</td>\n",
       "      <td>1</td>\n",
       "      <td>20</td>\n",
       "      <td>0</td>\n",
       "      <td>327000.00</td>\n",
       "      <td>2.7</td>\n",
       "      <td>116</td>\n",
       "      <td>0</td>\n",
       "      <td>0</td>\n",
       "      <td>8</td>\n",
       "      <td>1</td>\n",
       "      <td>3</td>\n",
       "      <td>1</td>\n",
       "      <td>0</td>\n",
       "      <td>4</td>\n",
       "      <td>6</td>\n",
       "      <td>0</td>\n",
       "    </tr>\n",
       "  </tbody>\n",
       "</table>\n",
       "</div>"
      ],
      "text/plain": [
       "    age  anaemia  creatinine_phosphokinase  diabetes  ejection_fraction  \\\n",
       "0  75.0        0                       582         0                 20   \n",
       "1  55.0        0                      7861         0                 38   \n",
       "2  65.0        0                       146         0                 20   \n",
       "3  50.0        1                       111         0                 20   \n",
       "4  65.0        1                       160         1                 20   \n",
       "\n",
       "   high_blood_pressure  platelets  serum_creatinine  serum_sodium  sex  \\\n",
       "0                    1  265000.00               1.9           130    1   \n",
       "1                    0  263358.03               1.1           136    1   \n",
       "2                    0  162000.00               1.3           129    1   \n",
       "3                    0  210000.00               1.9           137    1   \n",
       "4                    0  327000.00               2.7           116    0   \n",
       "\n",
       "   smoking  time  DEATH_EVENT  age_bin  creatinine_phosphokinase_bin  \\\n",
       "0        0     4            1        4                             3   \n",
       "1        0     6            1        2                             7   \n",
       "2        1     7            1        3                             1   \n",
       "3        0     7            1        2                             1   \n",
       "4        0     8            1        3                             1   \n",
       "\n",
       "   ejection_fraction_bin  platelates_bin  serum_creatinine_bin  \\\n",
       "0                      0               3                     5   \n",
       "1                      1               3                     2   \n",
       "2                      0               1                     3   \n",
       "3                      0               2                     5   \n",
       "4                      0               4                     6   \n",
       "\n",
       "   serum_sodium_bin  \n",
       "0                 2  \n",
       "1                 3  \n",
       "2                 1  \n",
       "3                 3  \n",
       "4                 0  "
      ]
     },
     "execution_count": 53,
     "metadata": {},
     "output_type": "execute_result"
    }
   ],
   "source": [
    "def bin_serum_sodium(x):\n",
    "    \"\"\"\n",
    "    for binning serum sodium levels\n",
    "    \"\"\"\n",
    "    if x<125:\n",
    "        return 0\n",
    "    elif (x>=125) and (x<130):\n",
    "        return 1\n",
    "    elif (x>=130) and (x<135):\n",
    "        return 2\n",
    "    elif (x>=135) and (x<140):\n",
    "        return 3\n",
    "    elif (x>=140) and (x<145):\n",
    "        return 4\n",
    "    elif (x>=145) and (x<150):\n",
    "        return 5\n",
    "    else:\n",
    "        return 6\n",
    "data['serum_sodium_bin'] = data['serum_sodium'].map(bin_serum_sodium)\n",
    "data.head()"
   ]
  },
  {
   "cell_type": "code",
   "execution_count": 54,
   "metadata": {},
   "outputs": [
    {
     "data": {
      "text/html": [
       "<div>\n",
       "<style scoped>\n",
       "    .dataframe tbody tr th:only-of-type {\n",
       "        vertical-align: middle;\n",
       "    }\n",
       "\n",
       "    .dataframe tbody tr th {\n",
       "        vertical-align: top;\n",
       "    }\n",
       "\n",
       "    .dataframe thead th {\n",
       "        text-align: right;\n",
       "    }\n",
       "</style>\n",
       "<table border=\"1\" class=\"dataframe\">\n",
       "  <thead>\n",
       "    <tr style=\"text-align: right;\">\n",
       "      <th></th>\n",
       "      <th>serum_sodium_bin</th>\n",
       "      <th>DEATH_EVENT</th>\n",
       "      <th>Total</th>\n",
       "      <th>Avg</th>\n",
       "    </tr>\n",
       "  </thead>\n",
       "  <tbody>\n",
       "    <tr>\n",
       "      <th>0</th>\n",
       "      <td>0</td>\n",
       "      <td>3</td>\n",
       "      <td>4</td>\n",
       "      <td>0.750000</td>\n",
       "    </tr>\n",
       "    <tr>\n",
       "      <th>1</th>\n",
       "      <td>1</td>\n",
       "      <td>6</td>\n",
       "      <td>9</td>\n",
       "      <td>0.666667</td>\n",
       "    </tr>\n",
       "    <tr>\n",
       "      <th>2</th>\n",
       "      <td>2</td>\n",
       "      <td>33</td>\n",
       "      <td>70</td>\n",
       "      <td>0.471429</td>\n",
       "    </tr>\n",
       "    <tr>\n",
       "      <th>3</th>\n",
       "      <td>3</td>\n",
       "      <td>36</td>\n",
       "      <td>139</td>\n",
       "      <td>0.258993</td>\n",
       "    </tr>\n",
       "    <tr>\n",
       "      <th>4</th>\n",
       "      <td>4</td>\n",
       "      <td>14</td>\n",
       "      <td>66</td>\n",
       "      <td>0.212121</td>\n",
       "    </tr>\n",
       "  </tbody>\n",
       "</table>\n",
       "</div>"
      ],
      "text/plain": [
       "   serum_sodium_bin  DEATH_EVENT  Total       Avg\n",
       "0                 0            3      4  0.750000\n",
       "1                 1            6      9  0.666667\n",
       "2                 2           33     70  0.471429\n",
       "3                 3           36    139  0.258993\n",
       "4                 4           14     66  0.212121"
      ]
     },
     "execution_count": 54,
     "metadata": {},
     "output_type": "execute_result"
    }
   ],
   "source": [
    "ss_analysis          = pd.DataFrame(data.groupby(by=['serum_sodium_bin'])['DEATH_EVENT']\\\n",
    "                                    .agg(lambda x:x.eq(1).sum())).reset_index()\n",
    "ss_analysis['Total'] = pd.DataFrame(data.groupby(by=['serum_sodium_bin'])['DEATH_EVENT']\\\n",
    "                                    .agg(total='count')).reset_index()['total']\n",
    "ss_analysis['Avg']   = pd.DataFrame(data.groupby(by=['serum_sodium_bin'])['DEATH_EVENT']\\\n",
    "                                    .agg(avg='mean')).reset_index()['avg']\n",
    "\n",
    "ss_analysis.head()"
   ]
  },
  {
   "cell_type": "code",
   "execution_count": 55,
   "metadata": {},
   "outputs": [
    {
     "data": {
      "image/png": "[encoded data removed]",
      "text/plain": [
       "<Figure size 720x360 with 1 Axes>"
      ]
     },
     "metadata": {
      "needs_background": "light"
     },
     "output_type": "display_data"
    }
   ],
   "source": [
    "plt.figure(figsize=(10, 5))\n",
    "b1 = plt.bar(np.arange(len(ss_analysis.serum_sodium_bin)), ss_analysis['Total'], label='Total')\n",
    "b2 = plt.bar(np.arange(len(ss_analysis.serum_sodium_bin)), ss_analysis['DEATH_EVENT'], label='Deceases')\n",
    "\n",
    "for indx, i in enumerate(b2.patches):\n",
    "    plt.text(i.get_x()+.20, i.get_height()+2, str(round(ss_analysis.Avg[indx]*100, 2))+'%', fontsize=12, color='black')\n",
    "    \n",
    "plt.legend()\n",
    "plt.grid()\n",
    "plt.show()"
   ]
  },
  {
   "cell_type": "markdown",
   "metadata": {},
   "source": [
    "#### [2.6] Time Analysis"
   ]
  },
  {
   "cell_type": "code",
   "execution_count": 60,
   "metadata": {},
   "outputs": [
    {
     "data": {
      "text/plain": [
       "187    7\n",
       "250    7\n",
       "186    6\n",
       "107    6\n",
       "10     6\n",
       "Name: time, dtype: int64"
      ]
     },
     "execution_count": 60,
     "metadata": {},
     "output_type": "execute_result"
    }
   ],
   "source": [
    "data['time'].value_counts().head()"
   ]
  },
  {
   "cell_type": "code",
   "execution_count": 61,
   "metadata": {},
   "outputs": [
    {
     "data": {
      "image/png": "[encoded data removed]",
      "text/plain": [
       "<Figure size 720x288 with 1 Axes>"
      ]
     },
     "metadata": {
      "needs_background": "light"
     },
     "output_type": "display_data"
    }
   ],
   "source": [
    "plt.figure(figsize=(10, 4))\n",
    "sns.distplot(data['time'], hist=True, label='time', color='Green')\n",
    "sns.distplot(data[data['DEATH_EVENT']==0]['time'], hist=False, label='survived', color='orange')\n",
    "sns.distplot(data[data['DEATH_EVENT']==1]['time'], hist=False, label='deceased', color='blue')\n",
    "plt.grid()\n",
    "plt.legend()\n",
    "plt.show()"
   ]
  },
  {
   "cell_type": "code",
   "execution_count": 62,
   "metadata": {},
   "outputs": [
    {
     "data": {
      "image/png": "[encoded data removed]",
      "text/plain": [
       "<Figure size 1080x288 with 3 Axes>"
      ]
     },
     "metadata": {
      "needs_background": "light"
     },
     "output_type": "display_data"
    }
   ],
   "source": [
    "#plotting the box plot\n",
    "plt.figure(figsize=(15, 4))\n",
    "\n",
    "ax1=plt.subplot(131)\n",
    "sns.boxplot(y=data['time'], ax=ax1)\n",
    "ax1.set_title('Time in all patients')\n",
    "ax1.grid()\n",
    "\n",
    "ax2=plt.subplot(132, sharey=ax1)\n",
    "sns.boxplot(y=data[data['DEATH_EVENT']==0]['time'], ax=ax2)\n",
    "ax2.set_title('Time in survived patients')\n",
    "ax2.grid()\n",
    "\n",
    "ax3=plt.subplot(133, sharey=ax2)\n",
    "sns.boxplot(y=data[data['DEATH_EVENT']==1]['time'], ax=ax3)\n",
    "ax3.set_title('Time in deceased patients')\n",
    "ax3.grid()\n",
    "\n",
    "\n",
    "plt.tight_layout()\n",
    "plt.show()"
   ]
  },
  {
   "cell_type": "markdown",
   "metadata": {},
   "source": [
    "<hr>\n",
    "<h2>Data Preparation</h2>"
   ]
  },
  {
   "cell_type": "code",
   "execution_count": 56,
   "metadata": {},
   "outputs": [
    {
     "data": {
      "text/html": [
       "<div>\n",
       "<style scoped>\n",
       "    .dataframe tbody tr th:only-of-type {\n",
       "        vertical-align: middle;\n",
       "    }\n",
       "\n",
       "    .dataframe tbody tr th {\n",
       "        vertical-align: top;\n",
       "    }\n",
       "\n",
       "    .dataframe thead th {\n",
       "        text-align: right;\n",
       "    }\n",
       "</style>\n",
       "<table border=\"1\" class=\"dataframe\">\n",
       "  <thead>\n",
       "    <tr style=\"text-align: right;\">\n",
       "      <th></th>\n",
       "      <th>age</th>\n",
       "      <th>anaemia</th>\n",
       "      <th>creatinine_phosphokinase</th>\n",
       "      <th>diabetes</th>\n",
       "      <th>ejection_fraction</th>\n",
       "      <th>high_blood_pressure</th>\n",
       "      <th>platelets</th>\n",
       "      <th>serum_creatinine</th>\n",
       "      <th>serum_sodium</th>\n",
       "      <th>sex</th>\n",
       "      <th>smoking</th>\n",
       "      <th>time</th>\n",
       "      <th>DEATH_EVENT</th>\n",
       "      <th>age_bin</th>\n",
       "      <th>creatinine_phosphokinase_bin</th>\n",
       "      <th>ejection_fraction_bin</th>\n",
       "      <th>platelates_bin</th>\n",
       "      <th>serum_creatinine_bin</th>\n",
       "      <th>serum_sodium_bin</th>\n",
       "    </tr>\n",
       "  </thead>\n",
       "  <tbody>\n",
       "    <tr>\n",
       "      <th>0</th>\n",
       "      <td>75.0</td>\n",
       "      <td>0</td>\n",
       "      <td>582</td>\n",
       "      <td>0</td>\n",
       "      <td>20</td>\n",
       "      <td>1</td>\n",
       "      <td>265000.00</td>\n",
       "      <td>1.9</td>\n",
       "      <td>130</td>\n",
       "      <td>1</td>\n",
       "      <td>0</td>\n",
       "      <td>4</td>\n",
       "      <td>1</td>\n",
       "      <td>4</td>\n",
       "      <td>3</td>\n",
       "      <td>0</td>\n",
       "      <td>3</td>\n",
       "      <td>5</td>\n",
       "      <td>2</td>\n",
       "    </tr>\n",
       "    <tr>\n",
       "      <th>1</th>\n",
       "      <td>55.0</td>\n",
       "      <td>0</td>\n",
       "      <td>7861</td>\n",
       "      <td>0</td>\n",
       "      <td>38</td>\n",
       "      <td>0</td>\n",
       "      <td>263358.03</td>\n",
       "      <td>1.1</td>\n",
       "      <td>136</td>\n",
       "      <td>1</td>\n",
       "      <td>0</td>\n",
       "      <td>6</td>\n",
       "      <td>1</td>\n",
       "      <td>2</td>\n",
       "      <td>7</td>\n",
       "      <td>1</td>\n",
       "      <td>3</td>\n",
       "      <td>2</td>\n",
       "      <td>3</td>\n",
       "    </tr>\n",
       "    <tr>\n",
       "      <th>2</th>\n",
       "      <td>65.0</td>\n",
       "      <td>0</td>\n",
       "      <td>146</td>\n",
       "      <td>0</td>\n",
       "      <td>20</td>\n",
       "      <td>0</td>\n",
       "      <td>162000.00</td>\n",
       "      <td>1.3</td>\n",
       "      <td>129</td>\n",
       "      <td>1</td>\n",
       "      <td>1</td>\n",
       "      <td>7</td>\n",
       "      <td>1</td>\n",
       "      <td>3</td>\n",
       "      <td>1</td>\n",
       "      <td>0</td>\n",
       "      <td>1</td>\n",
       "      <td>3</td>\n",
       "      <td>1</td>\n",
       "    </tr>\n",
       "    <tr>\n",
       "      <th>3</th>\n",
       "      <td>50.0</td>\n",
       "      <td>1</td>\n",
       "      <td>111</td>\n",
       "      <td>0</td>\n",
       "      <td>20</td>\n",
       "      <td>0</td>\n",
       "      <td>210000.00</td>\n",
       "      <td>1.9</td>\n",
       "      <td>137</td>\n",
       "      <td>1</td>\n",
       "      <td>0</td>\n",
       "      <td>7</td>\n",
       "      <td>1</td>\n",
       "      <td>2</td>\n",
       "      <td>1</td>\n",
       "      <td>0</td>\n",
       "      <td>2</td>\n",
       "      <td>5</td>\n",
       "      <td>3</td>\n",
       "    </tr>\n",
       "    <tr>\n",
       "      <th>4</th>\n",
       "      <td>65.0</td>\n",
       "      <td>1</td>\n",
       "      <td>160</td>\n",
       "      <td>1</td>\n",
       "      <td>20</td>\n",
       "      <td>0</td>\n",
       "      <td>327000.00</td>\n",
       "      <td>2.7</td>\n",
       "      <td>116</td>\n",
       "      <td>0</td>\n",
       "      <td>0</td>\n",
       "      <td>8</td>\n",
       "      <td>1</td>\n",
       "      <td>3</td>\n",
       "      <td>1</td>\n",
       "      <td>0</td>\n",
       "      <td>4</td>\n",
       "      <td>6</td>\n",
       "      <td>0</td>\n",
       "    </tr>\n",
       "  </tbody>\n",
       "</table>\n",
       "</div>"
      ],
      "text/plain": [
       "    age  anaemia  creatinine_phosphokinase  diabetes  ejection_fraction  \\\n",
       "0  75.0        0                       582         0                 20   \n",
       "1  55.0        0                      7861         0                 38   \n",
       "2  65.0        0                       146         0                 20   \n",
       "3  50.0        1                       111         0                 20   \n",
       "4  65.0        1                       160         1                 20   \n",
       "\n",
       "   high_blood_pressure  platelets  serum_creatinine  serum_sodium  sex  \\\n",
       "0                    1  265000.00               1.9           130    1   \n",
       "1                    0  263358.03               1.1           136    1   \n",
       "2                    0  162000.00               1.3           129    1   \n",
       "3                    0  210000.00               1.9           137    1   \n",
       "4                    0  327000.00               2.7           116    0   \n",
       "\n",
       "   smoking  time  DEATH_EVENT  age_bin  creatinine_phosphokinase_bin  \\\n",
       "0        0     4            1        4                             3   \n",
       "1        0     6            1        2                             7   \n",
       "2        1     7            1        3                             1   \n",
       "3        0     7            1        2                             1   \n",
       "4        0     8            1        3                             1   \n",
       "\n",
       "   ejection_fraction_bin  platelates_bin  serum_creatinine_bin  \\\n",
       "0                      0               3                     5   \n",
       "1                      1               3                     2   \n",
       "2                      0               1                     3   \n",
       "3                      0               2                     5   \n",
       "4                      0               4                     6   \n",
       "\n",
       "   serum_sodium_bin  \n",
       "0                 2  \n",
       "1                 3  \n",
       "2                 1  \n",
       "3                 3  \n",
       "4                 0  "
      ]
     },
     "execution_count": 56,
     "metadata": {},
     "output_type": "execute_result"
    }
   ],
   "source": [
    "data.head()"
   ]
  },
  {
   "cell_type": "code",
   "execution_count": 63,
   "metadata": {},
   "outputs": [],
   "source": [
    "final_data = data[['sex', 'anaemia', 'high_blood_pressure', 'smoking', 'diabetes', \\\n",
    "                   'age_bin', 'creatinine_phosphokinase_bin', 'ejection_fraction_bin', \\\n",
    "                   'platelates_bin', 'serum_creatinine_bin', 'serum_sodium_bin', \\\n",
    "                   'DEATH_EVENT']]"
   ]
  },
  {
   "cell_type": "code",
   "execution_count": 64,
   "metadata": {},
   "outputs": [
    {
     "data": {
      "text/html": [
       "<div>\n",
       "<style scoped>\n",
       "    .dataframe tbody tr th:only-of-type {\n",
       "        vertical-align: middle;\n",
       "    }\n",
       "\n",
       "    .dataframe tbody tr th {\n",
       "        vertical-align: top;\n",
       "    }\n",
       "\n",
       "    .dataframe thead th {\n",
       "        text-align: right;\n",
       "    }\n",
       "</style>\n",
       "<table border=\"1\" class=\"dataframe\">\n",
       "  <thead>\n",
       "    <tr style=\"text-align: right;\">\n",
       "      <th></th>\n",
       "      <th>sex</th>\n",
       "      <th>anaemia</th>\n",
       "      <th>high_blood_pressure</th>\n",
       "      <th>smoking</th>\n",
       "      <th>diabetes</th>\n",
       "      <th>age_bin</th>\n",
       "      <th>creatinine_phosphokinase_bin</th>\n",
       "      <th>ejection_fraction_bin</th>\n",
       "      <th>platelates_bin</th>\n",
       "      <th>serum_creatinine_bin</th>\n",
       "      <th>serum_sodium_bin</th>\n",
       "      <th>DEATH_EVENT</th>\n",
       "    </tr>\n",
       "  </thead>\n",
       "  <tbody>\n",
       "    <tr>\n",
       "      <th>0</th>\n",
       "      <td>1</td>\n",
       "      <td>0</td>\n",
       "      <td>1</td>\n",
       "      <td>0</td>\n",
       "      <td>0</td>\n",
       "      <td>4</td>\n",
       "      <td>3</td>\n",
       "      <td>0</td>\n",
       "      <td>3</td>\n",
       "      <td>5</td>\n",
       "      <td>2</td>\n",
       "      <td>1</td>\n",
       "    </tr>\n",
       "    <tr>\n",
       "      <th>1</th>\n",
       "      <td>1</td>\n",
       "      <td>0</td>\n",
       "      <td>0</td>\n",
       "      <td>0</td>\n",
       "      <td>0</td>\n",
       "      <td>2</td>\n",
       "      <td>7</td>\n",
       "      <td>1</td>\n",
       "      <td>3</td>\n",
       "      <td>2</td>\n",
       "      <td>3</td>\n",
       "      <td>1</td>\n",
       "    </tr>\n",
       "    <tr>\n",
       "      <th>2</th>\n",
       "      <td>1</td>\n",
       "      <td>0</td>\n",
       "      <td>0</td>\n",
       "      <td>1</td>\n",
       "      <td>0</td>\n",
       "      <td>3</td>\n",
       "      <td>1</td>\n",
       "      <td>0</td>\n",
       "      <td>1</td>\n",
       "      <td>3</td>\n",
       "      <td>1</td>\n",
       "      <td>1</td>\n",
       "    </tr>\n",
       "    <tr>\n",
       "      <th>3</th>\n",
       "      <td>1</td>\n",
       "      <td>1</td>\n",
       "      <td>0</td>\n",
       "      <td>0</td>\n",
       "      <td>0</td>\n",
       "      <td>2</td>\n",
       "      <td>1</td>\n",
       "      <td>0</td>\n",
       "      <td>2</td>\n",
       "      <td>5</td>\n",
       "      <td>3</td>\n",
       "      <td>1</td>\n",
       "    </tr>\n",
       "    <tr>\n",
       "      <th>4</th>\n",
       "      <td>0</td>\n",
       "      <td>1</td>\n",
       "      <td>0</td>\n",
       "      <td>0</td>\n",
       "      <td>1</td>\n",
       "      <td>3</td>\n",
       "      <td>1</td>\n",
       "      <td>0</td>\n",
       "      <td>4</td>\n",
       "      <td>6</td>\n",
       "      <td>0</td>\n",
       "      <td>1</td>\n",
       "    </tr>\n",
       "  </tbody>\n",
       "</table>\n",
       "</div>"
      ],
      "text/plain": [
       "   sex  anaemia  high_blood_pressure  smoking  diabetes  age_bin  \\\n",
       "0    1        0                    1        0         0        4   \n",
       "1    1        0                    0        0         0        2   \n",
       "2    1        0                    0        1         0        3   \n",
       "3    1        1                    0        0         0        2   \n",
       "4    0        1                    0        0         1        3   \n",
       "\n",
       "   creatinine_phosphokinase_bin  ejection_fraction_bin  platelates_bin  \\\n",
       "0                             3                      0               3   \n",
       "1                             7                      1               3   \n",
       "2                             1                      0               1   \n",
       "3                             1                      0               2   \n",
       "4                             1                      0               4   \n",
       "\n",
       "   serum_creatinine_bin  serum_sodium_bin  DEATH_EVENT  \n",
       "0                     5                 2            1  \n",
       "1                     2                 3            1  \n",
       "2                     3                 1            1  \n",
       "3                     5                 3            1  \n",
       "4                     6                 0            1  "
      ]
     },
     "execution_count": 64,
     "metadata": {},
     "output_type": "execute_result"
    }
   ],
   "source": [
    "final_data.head()"
   ]
  },
  {
   "cell_type": "code",
   "execution_count": 65,
   "metadata": {},
   "outputs": [],
   "source": [
    "final_data.to_csv('./heart_failure_final.csv', index=False)"
   ]
  }
 ],
 "metadata": {
  "kernelspec": {
   "display_name": "Python 3",
   "language": "python",
   "name": "python3"
  },
  "language_info": {
   "codemirror_mode": {
    "name": "ipython",
    "version": 3
   },
   "file_extension": ".py",
   "mimetype": "text/x-python",
   "name": "python",
   "nbconvert_exporter": "python",
   "pygments_lexer": "ipython3",
   "version": "3.7.6"
  }
 },
 "nbformat": 4,
 "nbformat_minor": 4
}
